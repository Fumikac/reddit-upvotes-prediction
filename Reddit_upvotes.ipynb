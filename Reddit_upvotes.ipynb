{
  "nbformat": 4,
  "nbformat_minor": 0,
  "metadata": {
    "accelerator": "GPU",
    "colab": {
      "name": "Reddit_coding_challenge.ipynb",
      "provenance": [],
      "collapsed_sections": [],
      "machine_shape": "hm"
    },
    "kernelspec": {
      "display_name": "Python 3",
      "language": "python",
      "name": "python3"
    },
    "language_info": {
      "codemirror_mode": {
        "name": "ipython",
        "version": 3
      },
      "file_extension": ".py",
      "mimetype": "text/x-python",
      "name": "python",
      "nbconvert_exporter": "python",
      "pygments_lexer": "ipython3",
      "version": "3.7.4"
    }
  },
  "cells": [
    {
      "cell_type": "markdown",
      "metadata": {
        "id": "JZ-ibtyMXlKC"
      },
      "source": [
        "# 0. Project Goal\n",
        "\n",
        "The data set includes online news contents, with its infomation including time/day, title, source, category and its upvotes/downvotes. To build a sucessful online platform, it is important to be able to infer contents' engagement.\n",
        "\n",
        "Here, I will set the goal of the project to be: \n",
        "**Predicting the number of upvotes based on the given features.**"
      ]
    },
    {
      "cell_type": "markdown",
      "metadata": {
        "id": "Gyvq5JZ5sU4v"
      },
      "source": [
        "# 1. Dataset overview"
      ]
    },
    {
      "cell_type": "markdown",
      "metadata": {
        "id": "czkh2XCXOXpf"
      },
      "source": [
        "## 1.A Load the data"
      ]
    },
    {
      "cell_type": "code",
      "metadata": {
        "colab": {
          "base_uri": "https://localhost:8080/"
        },
        "id": "kMsMNw44OKkc",
        "outputId": "0389d156-30c1-4154-ed58-00dc1c6adb3d"
      },
      "source": [
        "!nvcc --version"
      ],
      "execution_count": null,
      "outputs": [
        {
          "output_type": "stream",
          "text": [
            "nvcc: NVIDIA (R) Cuda compiler driver\n",
            "Copyright (c) 2005-2020 NVIDIA Corporation\n",
            "Built on Wed_Jul_22_19:09:09_PDT_2020\n",
            "Cuda compilation tools, release 11.0, V11.0.221\n",
            "Build cuda_11.0_bu.TC445_37.28845127_0\n"
          ],
          "name": "stdout"
        }
      ]
    },
    {
      "cell_type": "code",
      "metadata": {
        "id": "JqqWgwn1k-Hp"
      },
      "source": [
        "import os\n",
        "import pandas as pd\n",
        "import matplotlib.pyplot as plt\n",
        "import numpy as np"
      ],
      "execution_count": null,
      "outputs": []
    },
    {
      "cell_type": "markdown",
      "metadata": {
        "id": "1Ewx_YmTR5ab"
      },
      "source": [
        "In the following, data can be direcly loaded from the tabular."
      ]
    },
    {
      "cell_type": "code",
      "metadata": {
        "id": "yDAqLqgROz5b"
      },
      "source": [
        "#upload datafile\n",
        "from google.colab import files\n",
        "uploaded = files.upload()"
      ],
      "execution_count": null,
      "outputs": []
    },
    {
      "cell_type": "code",
      "metadata": {
        "id": "IChi_yxEX7my"
      },
      "source": [
        "#change the data into dataframe format\n",
        "df = pd.read_csv(io.BytesIO(uploaded['Reddit_worldnews.csv']))"
      ],
      "execution_count": null,
      "outputs": []
    },
    {
      "cell_type": "markdown",
      "metadata": {
        "id": "sjXZiEHWz8WE"
      },
      "source": [
        "## 1.B Datasets\n"
      ]
    },
    {
      "cell_type": "code",
      "metadata": {
        "colab": {
          "base_uri": "https://localhost:8080/",
          "height": 238
        },
        "id": "OSQYPiqTGxdC",
        "outputId": "9293c292-0cd9-4a6c-8737-cf4a6be44693"
      },
      "source": [
        "df.head(5)"
      ],
      "execution_count": null,
      "outputs": [
        {
          "output_type": "execute_result",
          "data": {
            "text/html": [
              "<div>\n",
              "<style scoped>\n",
              "    .dataframe tbody tr th:only-of-type {\n",
              "        vertical-align: middle;\n",
              "    }\n",
              "\n",
              "    .dataframe tbody tr th {\n",
              "        vertical-align: top;\n",
              "    }\n",
              "\n",
              "    .dataframe thead th {\n",
              "        text-align: right;\n",
              "    }\n",
              "</style>\n",
              "<table border=\"1\" class=\"dataframe\">\n",
              "  <thead>\n",
              "    <tr style=\"text-align: right;\">\n",
              "      <th></th>\n",
              "      <th>time_created</th>\n",
              "      <th>date_created</th>\n",
              "      <th>up_votes</th>\n",
              "      <th>down_votes</th>\n",
              "      <th>title</th>\n",
              "      <th>over_18</th>\n",
              "      <th>author</th>\n",
              "      <th>category</th>\n",
              "    </tr>\n",
              "  </thead>\n",
              "  <tbody>\n",
              "    <tr>\n",
              "      <th>0</th>\n",
              "      <td>1201232046</td>\n",
              "      <td>2008-01-25</td>\n",
              "      <td>3</td>\n",
              "      <td>0</td>\n",
              "      <td>Scores killed in Pakistan clashes</td>\n",
              "      <td>False</td>\n",
              "      <td>polar</td>\n",
              "      <td>worldnews</td>\n",
              "    </tr>\n",
              "    <tr>\n",
              "      <th>1</th>\n",
              "      <td>1201232075</td>\n",
              "      <td>2008-01-25</td>\n",
              "      <td>2</td>\n",
              "      <td>0</td>\n",
              "      <td>Japan resumes refuelling mission</td>\n",
              "      <td>False</td>\n",
              "      <td>polar</td>\n",
              "      <td>worldnews</td>\n",
              "    </tr>\n",
              "    <tr>\n",
              "      <th>2</th>\n",
              "      <td>1201232523</td>\n",
              "      <td>2008-01-25</td>\n",
              "      <td>3</td>\n",
              "      <td>0</td>\n",
              "      <td>US presses Egypt on Gaza border</td>\n",
              "      <td>False</td>\n",
              "      <td>polar</td>\n",
              "      <td>worldnews</td>\n",
              "    </tr>\n",
              "    <tr>\n",
              "      <th>3</th>\n",
              "      <td>1201233290</td>\n",
              "      <td>2008-01-25</td>\n",
              "      <td>1</td>\n",
              "      <td>0</td>\n",
              "      <td>Jump-start economy: Give health care to all</td>\n",
              "      <td>False</td>\n",
              "      <td>fadi420</td>\n",
              "      <td>worldnews</td>\n",
              "    </tr>\n",
              "    <tr>\n",
              "      <th>4</th>\n",
              "      <td>1201274720</td>\n",
              "      <td>2008-01-25</td>\n",
              "      <td>4</td>\n",
              "      <td>0</td>\n",
              "      <td>Council of Europe bashes EU&amp;UN terror blacklist</td>\n",
              "      <td>False</td>\n",
              "      <td>mhermans</td>\n",
              "      <td>worldnews</td>\n",
              "    </tr>\n",
              "  </tbody>\n",
              "</table>\n",
              "</div>"
            ],
            "text/plain": [
              "   time_created date_created  up_votes  ...  over_18    author   category\n",
              "0    1201232046   2008-01-25         3  ...    False     polar  worldnews\n",
              "1    1201232075   2008-01-25         2  ...    False     polar  worldnews\n",
              "2    1201232523   2008-01-25         3  ...    False     polar  worldnews\n",
              "3    1201233290   2008-01-25         1  ...    False   fadi420  worldnews\n",
              "4    1201274720   2008-01-25         4  ...    False  mhermans  worldnews\n",
              "\n",
              "[5 rows x 8 columns]"
            ]
          },
          "metadata": {
            "tags": []
          },
          "execution_count": 292
        }
      ]
    },
    {
      "cell_type": "code",
      "metadata": {
        "colab": {
          "base_uri": "https://localhost:8080/"
        },
        "id": "iW7rCEHyTATq",
        "outputId": "f8a12be5-4d34-482a-e215-fb7b4a41504f"
      },
      "source": [
        "df.info()"
      ],
      "execution_count": null,
      "outputs": [
        {
          "output_type": "stream",
          "text": [
            "<class 'pandas.core.frame.DataFrame'>\n",
            "RangeIndex: 509236 entries, 0 to 509235\n",
            "Data columns (total 8 columns):\n",
            " #   Column        Non-Null Count   Dtype \n",
            "---  ------        --------------   ----- \n",
            " 0   time_created  509236 non-null  int64 \n",
            " 1   date_created  509236 non-null  object\n",
            " 2   up_votes      509236 non-null  int64 \n",
            " 3   down_votes    509236 non-null  int64 \n",
            " 4   title         509236 non-null  object\n",
            " 5   over_18       509236 non-null  bool  \n",
            " 6   author        509236 non-null  object\n",
            " 7   category      509236 non-null  object\n",
            "dtypes: bool(1), int64(3), object(4)\n",
            "memory usage: 27.7+ MB\n"
          ],
          "name": "stdout"
        }
      ]
    },
    {
      "cell_type": "markdown",
      "metadata": {
        "id": "Fes0dx0TUpdE"
      },
      "source": [
        "- Dataset consisting of 8 variables.\n",
        "- They have mixed data types: int64, object, boolean, object. Most of them have to be converted into usuful numerical values for ML ( or integer-encoded categorical values if using Light Gradient Boosting Machine package lightGBM which we will use). \n",
        "- There are no null values included, so there are no need for data cleaning.\n"
      ]
    },
    {
      "cell_type": "markdown",
      "metadata": {
        "id": "45cBe3Uz603a"
      },
      "source": [
        "## 1.C Understanding the data\n",
        "\n",
        "The title looks like the headline of the news. We take a closer look at 'author' and 'category' variables."
      ]
    },
    {
      "cell_type": "code",
      "metadata": {
        "colab": {
          "base_uri": "https://localhost:8080/"
        },
        "id": "yhyrPThFdtbe",
        "outputId": "66c2fb3c-0db5-4f76-a6ed-023706ff333f"
      },
      "source": [
        "print('Author')\n",
        "df.author.value_counts()"
      ],
      "execution_count": null,
      "outputs": [
        {
          "output_type": "stream",
          "text": [
            "Author\n"
          ],
          "name": "stdout"
        },
        {
          "output_type": "execute_result",
          "data": {
            "text/plain": [
              "davidreiss666     8897\n",
              "anutensil         5730\n",
              "DoremusJessup     5037\n",
              "maxwellhill       4023\n",
              "igeldard          4013\n",
              "                  ... \n",
              "doug                 1\n",
              "Mark9934             1\n",
              "Jakubisko            1\n",
              "0_0_0                1\n",
              "crunchbangboom       1\n",
              "Name: author, Length: 85838, dtype: int64"
            ]
          },
          "metadata": {
            "tags": []
          },
          "execution_count": 294
        }
      ]
    },
    {
      "cell_type": "code",
      "metadata": {
        "colab": {
          "base_uri": "https://localhost:8080/"
        },
        "id": "VsPFOXrHeIvv",
        "outputId": "86fd8374-f53d-429f-bbb1-f74a10be786d"
      },
      "source": [
        "print('Category')\n",
        "df.category.value_counts()"
      ],
      "execution_count": null,
      "outputs": [
        {
          "output_type": "stream",
          "text": [
            "Category\n"
          ],
          "name": "stdout"
        },
        {
          "output_type": "execute_result",
          "data": {
            "text/plain": [
              "worldnews    509236\n",
              "Name: category, dtype: int64"
            ]
          },
          "metadata": {
            "tags": []
          },
          "execution_count": 295
        }
      ]
    },
    {
      "cell_type": "markdown",
      "metadata": {
        "id": "nFE4ArfweZP9"
      },
      "source": [
        "All samples have a category 'worldnews'. Through the online research, we can find that 'author' values are Reddit account names. Thus we can guess that the dataset contains data of news posts from [Reddit worldnews page](https://www.reddit.com/r/worldnews/)."
      ]
    },
    {
      "cell_type": "markdown",
      "metadata": {
        "id": "m2XOTjIgbLLe"
      },
      "source": [
        "## 1.D Target variable"
      ]
    },
    {
      "cell_type": "markdown",
      "metadata": {
        "id": "WppBgsjchrlS"
      },
      "source": [
        "### 1.D.1 Down_votes"
      ]
    },
    {
      "cell_type": "code",
      "metadata": {
        "colab": {
          "base_uri": "https://localhost:8080/"
        },
        "id": "BY5MzafHvzq7",
        "outputId": "3be5a7a1-10ec-48c1-ffb1-adf0d630e755"
      },
      "source": [
        "print('down_votes')\n",
        "df.down_votes.value_counts()"
      ],
      "execution_count": null,
      "outputs": [
        {
          "output_type": "stream",
          "text": [
            "down_votes\n"
          ],
          "name": "stdout"
        },
        {
          "output_type": "execute_result",
          "data": {
            "text/plain": [
              "0    509236\n",
              "Name: down_votes, dtype: int64"
            ]
          },
          "metadata": {
            "tags": []
          },
          "execution_count": 296
        }
      ]
    },
    {
      "cell_type": "markdown",
      "metadata": {
        "id": "Z4kEaQEDvzY4"
      },
      "source": [
        "Variable 'down_votes' is 0 for all samples. Thus, we can omit this and aim to predict the 'up_vote' (target variable). It is possible that the variable 'up_vote' in this dataset is the number of upvotes minus the number of downvotes in Reddit as it is the number shown in its webpage.\n",
        "This leave 'down_vote' here to 0."
      ]
    },
    {
      "cell_type": "markdown",
      "metadata": {
        "id": "ykRWEUoYhXmg"
      },
      "source": [
        "### 1.D.2 Up_votes\n",
        "\n"
      ]
    },
    {
      "cell_type": "code",
      "metadata": {
        "colab": {
          "base_uri": "https://localhost:8080/",
          "height": 279
        },
        "id": "YLc5KpIYegkk",
        "outputId": "b4303c1c-2dc6-4ed0-f778-8af5a67a3f48"
      },
      "source": [
        "df.up_votes[df.up_votes>1000].hist(bins = 100)\n",
        "plt.xlabel('number of upvotes')\n",
        "plt.ylabel('Frequency')\n",
        "plt.show()"
      ],
      "execution_count": null,
      "outputs": [
        {
          "output_type": "display_data",
          "data": {
            "image/png": "[encoded data removed]",
            "text/plain": [
              "<Figure size 432x288 with 1 Axes>"
            ]
          },
          "metadata": {
            "tags": []
          }
        }
      ]
    },
    {
      "cell_type": "code",
      "metadata": {
        "colab": {
          "base_uri": "https://localhost:8080/",
          "height": 279
        },
        "id": "MkM8phpTi3yT",
        "outputId": "ec5e31be-f88b-47d9-ad0b-5a004155a7b9"
      },
      "source": [
        "df.up_votes[df.up_votes>5].hist(bins = 200, log=True)\n",
        "plt.xlabel('number of upvotes')\n",
        "plt.ylabel('Frequency (log)')\n",
        "plt.show()"
      ],
      "execution_count": null,
      "outputs": [
        {
          "output_type": "display_data",
          "data": {
            "image/png": "[encoded data removed]",
            "text/plain": [
              "<Figure size 432x288 with 1 Axes>"
            ]
          },
          "metadata": {
            "tags": []
          }
        }
      ]
    },
    {
      "cell_type": "markdown",
      "metadata": {
        "id": "1eRpnVKaiOvY"
      },
      "source": [
        "In general the distribution of upvotes are monotonically decreasing (with proper smoothing). The distribution is rather exponential decay in the low counts of upvotes, but but the decay slows down at upvotes around > 4000."
      ]
    },
    {
      "cell_type": "markdown",
      "metadata": {
        "id": "ZY0XEa8r0ZS5"
      },
      "source": [
        "# 2. Feature Engineering"
      ]
    },
    {
      "cell_type": "markdown",
      "metadata": {
        "id": "bE59kl8_Luwz"
      },
      "source": [
        "## 2.A Time Features"
      ]
    },
    {
      "cell_type": "markdown",
      "metadata": {
        "id": "xTJbsbiOAx3S"
      },
      "source": [
        "### 2.A.1 Features derived from 'time_created' & 'date_created'"
      ]
    },
    {
      "cell_type": "markdown",
      "metadata": {
        "id": "BNJ5FhvBd9OD"
      },
      "source": [
        "We will use tree based model for ML.\n",
        "Useful features that can be extracted from time features are, time over the day/week/year/the whole span of dataset.\n",
        "\n",
        "- minute of the day (values from 0 to 23*60+59)\n",
        "- day of the week (values from 0 to 6; Monday is 0 sunday is 6)\n",
        "- day of the year (values from 1 to 366, including leap day)\n",
        "- day over the whole dataset, starting from when the first sample was created (values from 0 to 3224(derived later))\n",
        "\n",
        "Other feature\n",
        "- holiday (True or False, following the US Federal Holiday)"
      ]
    },
    {
      "cell_type": "markdown",
      "metadata": {
        "id": "A-I2c_RkDQab"
      },
      "source": [
        "First, we need to check if the variable 'date_created' was recorded in Coordinated Universal Time (UTC) or other time zones. We can check this by checking if the 'date_created' matches with the date of Unix timestamp 'time_created'."
      ]
    },
    {
      "cell_type": "code",
      "metadata": {
        "colab": {
          "base_uri": "https://localhost:8080/",
          "height": 97
        },
        "id": "ajDlIb2jqnLr",
        "outputId": "760e4b55-e645-478c-caa9-5a87afc12db5"
      },
      "source": [
        "date_time = pd.to_datetime(df.time_created, unit='s').dt.date\n",
        "date_date = pd.to_datetime(df.date_created, format='%Y-%m-%d').dt.date\n",
        "df.loc[date_time != date_date]"
      ],
      "execution_count": null,
      "outputs": [
        {
          "output_type": "execute_result",
          "data": {
            "text/html": [
              "<div>\n",
              "<style scoped>\n",
              "    .dataframe tbody tr th:only-of-type {\n",
              "        vertical-align: middle;\n",
              "    }\n",
              "\n",
              "    .dataframe tbody tr th {\n",
              "        vertical-align: top;\n",
              "    }\n",
              "\n",
              "    .dataframe thead th {\n",
              "        text-align: right;\n",
              "    }\n",
              "</style>\n",
              "<table border=\"1\" class=\"dataframe\">\n",
              "  <thead>\n",
              "    <tr style=\"text-align: right;\">\n",
              "      <th></th>\n",
              "      <th>time_created</th>\n",
              "      <th>date_created</th>\n",
              "      <th>up_votes</th>\n",
              "      <th>down_votes</th>\n",
              "      <th>title</th>\n",
              "      <th>over_18</th>\n",
              "      <th>author</th>\n",
              "      <th>category</th>\n",
              "    </tr>\n",
              "  </thead>\n",
              "  <tbody>\n",
              "    <tr>\n",
              "      <th>343260</th>\n",
              "      <td>1423526400</td>\n",
              "      <td>2015-02-09</td>\n",
              "      <td>7</td>\n",
              "      <td>0</td>\n",
              "      <td>Christians in India want their own Christian c...</td>\n",
              "      <td>False</td>\n",
              "      <td>InternetOfficer</td>\n",
              "      <td>worldnews</td>\n",
              "    </tr>\n",
              "  </tbody>\n",
              "</table>\n",
              "</div>"
            ],
            "text/plain": [
              "        time_created date_created  ...           author   category\n",
              "343260    1423526400   2015-02-09  ...  InternetOfficer  worldnews\n",
              "\n",
              "[1 rows x 8 columns]"
            ]
          },
          "metadata": {
            "tags": []
          },
          "execution_count": 299
        }
      ]
    },
    {
      "cell_type": "code",
      "metadata": {
        "colab": {
          "base_uri": "https://localhost:8080/"
        },
        "id": "uRM8dU49E3c6",
        "outputId": "84255079-bd81-46e1-c27b-21ffc9599e0f"
      },
      "source": [
        "print('date of time_created: ', date_time[date_time!=date_date])\n",
        "print('date of date_created: ', date_date[date_time!=date_date])"
      ],
      "execution_count": null,
      "outputs": [
        {
          "output_type": "stream",
          "text": [
            "date of time_created:  343260    2015-02-10\n",
            "Name: time_created, dtype: object\n",
            "date of date_created:  343260    2015-02-09\n",
            "Name: date_created, dtype: object\n"
          ],
          "name": "stdout"
        }
      ]
    },
    {
      "cell_type": "markdown",
      "metadata": {
        "id": "9VDvgkCrBz4m"
      },
      "source": [
        "There is only one sample where the date of 'time_created' and 'date_created' do not match. This is due to the fact that the this sample was created exacly at 00:00:00. Thus there is nothing wrong with this discrepancy. Except for this one point, we can see that the date of both features matches each other.\n",
        "\n",
        "From the above results, we can conclude that 'date_created' was recorded in UTC. From now on we can ignore the feature 'date_created' since the information can be extracted from variable 'time_created'.\n",
        "\n",
        "According to the website [Similarweb](https://www.similarweb.com/website/reddit.com/#overview), 50% of its desktop traffic originates from the US, followed by 8% from the UK, and 8% from Canada. Also, U.S. consumers represent 76 percent of spending in the mobile app according to the article from [TensorFlow](https://sensortower.com/blog/reddit-app-install-record). Thus we can assume that the majority of the traffic comes from the US. Therefore we should change the time to one of the US time zones.\n",
        "\n",
        "Using the data of 2014 Census etimates ([Quora post](https://qr.ae/pGpDNi)), we can calculate (done separately) the average 'time zone' in the US weighted by the population on each timezones to be UTC - 5.9, which is close to US Central Time. This timezone would be the best representative of the time zones in the US.\n"
      ]
    },
    {
      "cell_type": "code",
      "metadata": {
        "id": "r4PJJeVOOwVg"
      },
      "source": [
        "#following takes into accout the day light saving time\n",
        "df['time_ct'] = pd.to_datetime(df.time_created, unit='s', utc=True).dt.tz_convert('US/Central')"
      ],
      "execution_count": null,
      "outputs": []
    },
    {
      "cell_type": "markdown",
      "metadata": {
        "id": "otSgE50pGvAA"
      },
      "source": [
        "### 2.A.2 Time of the day\n",
        "Next, let's see how the samples are distributed among time of the day."
      ]
    },
    {
      "cell_type": "code",
      "metadata": {
        "id": "wz76r3CKDkEE"
      },
      "source": [
        "df_new = pd.DataFrame()\n",
        "\n",
        "#Time of day\n",
        "df_new['minute_of_day'] = df.time_ct.dt.minute + df.time_ct.dt.hour*60"
      ],
      "execution_count": null,
      "outputs": []
    },
    {
      "cell_type": "code",
      "metadata": {
        "colab": {
          "base_uri": "https://localhost:8080/",
          "height": 279
        },
        "id": "Jyem7SEFMacy",
        "outputId": "eb3db355-8585-4d2e-a2f8-932dfdbf364f"
      },
      "source": [
        "df.time_ct.dt.hour.plot(kind='hist', bins=24, align='left')\n",
        "plt.xlabel('Hour of the Day (Central Time)')\n",
        "plt.show()"
      ],
      "execution_count": null,
      "outputs": [
        {
          "output_type": "display_data",
          "data": {
            "image/png": "[encoded data removed]",
            "text/plain": [
              "<Figure size 432x288 with 1 Axes>"
            ]
          },
          "metadata": {
            "tags": []
          }
        }
      ]
    },
    {
      "cell_type": "code",
      "metadata": {
        "colab": {
          "base_uri": "https://localhost:8080/",
          "height": 279
        },
        "id": "P73_-8sOX_W1",
        "outputId": "de07e6c8-0dca-411c-e410-64e83d365583"
      },
      "source": [
        "df_new.minute_of_day.plot(kind='hist', bins=int(24*60/15), align='left')\n",
        "plt.xlabel('Minute of the Day (Central Time)')\n",
        "plt.show()"
      ],
      "execution_count": null,
      "outputs": [
        {
          "output_type": "display_data",
          "data": {
            "image/png": "[encoded data removed]",
            "text/plain": [
              "<Figure size 432x288 with 1 Axes>"
            ]
          },
          "metadata": {
            "tags": []
          }
        }
      ]
    },
    {
      "cell_type": "markdown",
      "metadata": {
        "id": "zA0_B3RLnwIF"
      },
      "source": [
        "For tree based model, 'hour_of_day' won't be useful if there is 'minute_of_day' feature, since 'minute_of_day' is the detailed version (more bins) of the 'hour_of_day'. We will use 'minute_of_day' in our model. The distribution is unimodal but with plateau during the night. It is reassuring to see that \n",
        "-  The distribution is peaked at around 9am at US Central Time. It makes sense that Reddit users in the US start browsing Reddit after they wake up. \n",
        "- The somewhat constant frequency at night (~ 40% of the peak) can be explained by the Reddit traffic outside of the US spreading through the world."
      ]
    },
    {
      "cell_type": "markdown",
      "metadata": {
        "id": "pX59XTgKM0TC"
      },
      "source": [
        "### 2.A.3 Time of Week"
      ]
    },
    {
      "cell_type": "code",
      "metadata": {
        "id": "B0D90OZPEF93"
      },
      "source": [
        "#Time of week\n",
        "df_new['day_of_week'] = df.time_ct.dt.dayofweek"
      ],
      "execution_count": null,
      "outputs": []
    },
    {
      "cell_type": "code",
      "metadata": {
        "colab": {
          "base_uri": "https://localhost:8080/",
          "height": 279
        },
        "id": "Ux5cK1lZM6Sp",
        "outputId": "2c6b7997-4dc1-4f14-dd28-8305a33d7475"
      },
      "source": [
        "df_new.day_of_week.plot(kind='hist', bins=7, align='left')\n",
        "plt.xlabel('Day of Week')\n",
        "plt.show()"
      ],
      "execution_count": null,
      "outputs": [
        {
          "output_type": "display_data",
          "data": {
            "image/png": "[encoded data removed]",
            "text/plain": [
              "<Figure size 432x288 with 1 Axes>"
            ]
          },
          "metadata": {
            "tags": []
          }
        }
      ]
    },
    {
      "cell_type": "markdown",
      "metadata": {
        "id": "9k-iOXf2NarT"
      },
      "source": [
        "There are less news created during the weekend (Saturday and Sunday)."
      ]
    },
    {
      "cell_type": "markdown",
      "metadata": {
        "id": "Fj3LkFqtO0L_"
      },
      "source": [
        "### 2.A.4 Day of Year"
      ]
    },
    {
      "cell_type": "code",
      "metadata": {
        "colab": {
          "base_uri": "https://localhost:8080/"
        },
        "id": "VCdKe79xM0Rd",
        "outputId": "8af8a927-b545-4546-d9f1-7c77300b4c69"
      },
      "source": [
        "date_min = df.time_ct.dt.date.min()\n",
        "date_max = df.time_ct.dt.date.max()\n",
        "\n",
        "print('Min for time_created (CT): ', df.time_ct.min())\n",
        "print('Max for time_created (CT): ', df.time_ct.max())"
      ],
      "execution_count": null,
      "outputs": [
        {
          "output_type": "stream",
          "text": [
            "Min for time_created (CT):  2008-01-24 21:34:06-06:00\n",
            "Max for time_created (CT):  2016-11-22 06:22:26-06:00\n"
          ],
          "name": "stdout"
        }
      ]
    },
    {
      "cell_type": "markdown",
      "metadata": {
        "id": "wrruJ-1yJM3g"
      },
      "source": [
        "The dataset is spanned for around 9 years. Since the earliest time is January 2008 and the latest is Novermber 2016, some days of the year appear 9 times while others appear 8 times during this span.\n",
        "One thing that needs to be careful here is that this differrence will be shown when we plot the histogram of samples over the year. There would be less frequency between Nov 22 to end of the year and Jan 1-23.\n",
        "\n",
        "Thus the fact that there are less data samples in the end and the beginning of the year in the histogram doesn't necessary mean that there are actually less samples during the period unless it is more than 1/9 = 11% diffrenece compared to other time period.\n",
        "\n",
        "Also, since there are also two leap years, 2012 and 2016 during the span, the last day of the year (day 365 out of 0-365) is expected to have very low samples when plotting the histogram.\n",
        "\n",
        "Since our goal here is not about showing the correct frequencies of samples over the year, I will not take this factor into account when plotting the histogram.\n"
      ]
    },
    {
      "cell_type": "code",
      "metadata": {
        "id": "9QgRpxYUEPsM"
      },
      "source": [
        "#Time of year (normalized)\n",
        "df_new['day_of_year'] = df.time_ct.dt.dayofyear"
      ],
      "execution_count": null,
      "outputs": []
    },
    {
      "cell_type": "code",
      "metadata": {
        "colab": {
          "base_uri": "https://localhost:8080/",
          "height": 279
        },
        "id": "ufEkUkhAND0g",
        "outputId": "05383554-6711-4a29-cd72-eb87fe69d4bd"
      },
      "source": [
        "df_new['day_of_year'].plot(kind='hist',bins=366, align='left')\n",
        "plt.xlabel('Day of Year')\n",
        "plt.show()"
      ],
      "execution_count": null,
      "outputs": [
        {
          "output_type": "display_data",
          "data": {
            "image/png": "[encoded data removed]",
            "text/plain": [
              "<Figure size 432x288 with 1 Axes>"
            ]
          },
          "metadata": {
            "tags": []
          }
        }
      ]
    },
    {
      "cell_type": "markdown",
      "metadata": {
        "id": "ATIoClxWWYTs"
      },
      "source": [
        "Zoom in the first and last 60 days."
      ]
    },
    {
      "cell_type": "code",
      "metadata": {
        "colab": {
          "base_uri": "https://localhost:8080/",
          "height": 279
        },
        "id": "8UUXOV8cCcrV",
        "outputId": "aa15a89e-4d86-4395-86b7-64fc83de0481"
      },
      "source": [
        "df_new.day_of_year[df_new.day_of_year<61].plot(kind='hist',bins=60, align='left')\n",
        "plt.xlabel('Day of Year')\n",
        "plt.show()"
      ],
      "execution_count": null,
      "outputs": [
        {
          "output_type": "display_data",
          "data": {
            "image/png": "[encoded data removed]",
            "text/plain": [
              "<Figure size 432x288 with 1 Axes>"
            ]
          },
          "metadata": {
            "tags": []
          }
        }
      ]
    },
    {
      "cell_type": "code",
      "metadata": {
        "colab": {
          "base_uri": "https://localhost:8080/",
          "height": 279
        },
        "id": "HdTpEjBk0lSv",
        "outputId": "a62753ea-6159-4403-c066-a17b61f2a6d4"
      },
      "source": [
        "df_new.day_of_year[df_new.day_of_year>= 366-60+1].plot(kind='hist',bins=60, align='left')\n",
        "plt.xlabel('Day of Year')\n",
        "plt.show()"
      ],
      "execution_count": null,
      "outputs": [
        {
          "output_type": "display_data",
          "data": {
            "image/png": "[encoded data removed]",
            "text/plain": [
              "<Figure size 432x288 with 1 Axes>"
            ]
          },
          "metadata": {
            "tags": []
          }
        }
      ]
    },
    {
      "cell_type": "markdown",
      "metadata": {
        "id": "Zj9mYhN6Wsbr"
      },
      "source": [
        "The frequency of samples are declining in the end of the year and increasing in the beginning of the year, which makes sense. (This tendency is different from the effect described above.)"
      ]
    },
    {
      "cell_type": "markdown",
      "metadata": {
        "id": "CgG9_N2HDybI"
      },
      "source": [
        "### 2.A.5 Through the whole span of the dataset"
      ]
    },
    {
      "cell_type": "code",
      "metadata": {
        "id": "EBUk7DgeD9L-"
      },
      "source": [
        "#time throughout the dataset\n",
        "df_new['days'] = (df.time_ct - df.time_ct.min()).dt.days"
      ],
      "execution_count": null,
      "outputs": []
    },
    {
      "cell_type": "code",
      "metadata": {
        "colab": {
          "base_uri": "https://localhost:8080/",
          "height": 279
        },
        "id": "ZKQqJmGxVl6y",
        "outputId": "e93a990f-2b40-4c89-ae70-dfd504035ee8"
      },
      "source": [
        "df_new['days'].plot.hist(bins=df_new['days'].max()+1)\n",
        "plt.xlabel('Days since the first sample created')\n",
        "plt.legend()\n",
        "plt.show()"
      ],
      "execution_count": null,
      "outputs": [
        {
          "output_type": "display_data",
          "data": {
            "image/png": "[encoded data removed]",
            "text/plain": [
              "<Figure size 432x288 with 1 Axes>"
            ]
          },
          "metadata": {
            "tags": []
          }
        }
      ]
    },
    {
      "cell_type": "markdown",
      "metadata": {
        "id": "jEXv5dIQgd-2"
      },
      "source": [
        "Number of samples created per day in the last few years are higher than the early years in the dataset. It looks like Reddit got more popular in the recent years. This could contribute to more upvotes for the posts."
      ]
    },
    {
      "cell_type": "markdown",
      "metadata": {
        "id": "PdUuM-m7EVQx"
      },
      "source": [
        "### 2.A.6 Holidays"
      ]
    },
    {
      "cell_type": "code",
      "metadata": {
        "id": "nd8zWuzMHIG5"
      },
      "source": [
        "from pandas.tseries.holiday import USFederalHolidayCalendar\n",
        "holidays = USFederalHolidayCalendar().holidays(start=df.time_ct.dt.date.min(), end=df.time_ct.dt.date.max())\n",
        "df_new['holiday'] = df['time_ct'].dt.date.astype('datetime64').isin(holidays).astype(int)"
      ],
      "execution_count": null,
      "outputs": []
    },
    {
      "cell_type": "markdown",
      "metadata": {
        "id": "5ZJjR2RkZWCG"
      },
      "source": [
        "We will quickly calculate number of samples per the day of the week, and compare them with the case of the holiday."
      ]
    },
    {
      "cell_type": "code",
      "metadata": {
        "colab": {
          "base_uri": "https://localhost:8080/"
        },
        "id": "EBnM3LWpE7di",
        "outputId": "1741ed65-47f2-4c82-d3a1-49d65655b783"
      },
      "source": [
        "#number of weeks through the whole timespan\n",
        "n_weeks = ((date_max - date_min)/7).days + ((date_max - date_min)/7).seconds/(60*60*24)\n",
        "print(round(n_weeks), 'weeks between ', date_min, ' and ', date_max)"
      ],
      "execution_count": null,
      "outputs": [
        {
          "output_type": "stream",
          "text": [
            "461 weeks between  2008-01-24  and  2016-11-22\n"
          ],
          "name": "stdout"
        }
      ]
    },
    {
      "cell_type": "code",
      "metadata": {
        "colab": {
          "base_uri": "https://localhost:8080/"
        },
        "id": "wYjrNZDQFyym",
        "outputId": "0dda3ed9-3810-4a37-96d0-d0f04f996871"
      },
      "source": [
        "#number of samples per the day of the week\n",
        "n_day_of_week = (df_new.day_of_week.value_counts()/n_weeks).sort_index()\n",
        "print(n_day_of_week)"
      ],
      "execution_count": null,
      "outputs": [
        {
          "output_type": "stream",
          "text": [
            "0    174.084032\n",
            "1    182.427598\n",
            "2    180.098606\n",
            "3    173.667288\n",
            "4    156.828218\n",
            "5    114.667598\n",
            "6    123.545117\n",
            "Name: day_of_week, dtype: float64\n"
          ],
          "name": "stdout"
        }
      ]
    },
    {
      "cell_type": "markdown",
      "metadata": {
        "id": "5DyuwTiOaL2V"
      },
      "source": [
        "Here 0 means Monday and 6 means Sunday."
      ]
    },
    {
      "cell_type": "code",
      "metadata": {
        "colab": {
          "base_uri": "https://localhost:8080/"
        },
        "id": "RHf59xCPGfy5",
        "outputId": "92430bfd-1ee0-4f7c-b1d8-dc8f44595e75"
      },
      "source": [
        "print('number of samples per holiday')\n",
        "(df_new['holiday']).sum()/len(holidays)"
      ],
      "execution_count": null,
      "outputs": [
        {
          "output_type": "stream",
          "text": [
            "number of samples per holiday\n"
          ],
          "name": "stdout"
        },
        {
          "output_type": "execute_result",
          "data": {
            "text/plain": [
              "156.62790697674419"
            ]
          },
          "metadata": {
            "tags": []
          },
          "execution_count": 317
        }
      ]
    },
    {
      "cell_type": "markdown",
      "metadata": {
        "id": "B3TcEkR-abQj"
      },
      "source": [
        "In average, number of news created in a holiday is more than in Saturday and Sunday,  but lower than in weekdays. Thus having a feature to tell if the sample was created on holiday is also useful."
      ]
    },
    {
      "cell_type": "markdown",
      "metadata": {
        "id": "HFoHeB4-vajl"
      },
      "source": [
        "## 2.B Features derived from 'title'"
      ]
    },
    {
      "cell_type": "markdown",
      "metadata": {
        "id": "P1QADSf23ENx"
      },
      "source": [
        "We will use the Natural Language Toolkit (NLTK) for analyzing the title. Features that can be derived from 'title' are:\n",
        "\n",
        "Sentimenting scores using Sentiment Intensity Analyser (SIA)\n",
        "- The probability of the sentiment to be positive (0 to 1, float)\n",
        "- The probability of the sentiment to be negative (0 to 1, float)\n",
        "- The probability of the sentiment to be neutural (0 to 1, float)\n",
        "- The probability of the compunt sentimenting scores (-1 to 1, float)\n",
        "\n",
        "Word Vectors derived from Doc2Vec\n",
        "- vector 1 (float)\n",
        "- vector 2 (float)\n",
        "\n",
        "Others\n",
        "- Readability : US grade level of education required to understand the text (float)\n",
        "- word counts (int): number of words in the title\n",
        "- written in uppercases (True or False).\n",
        "- includes '!' (True or False)\n",
        "- includes '?' (True or False)\n",
        "- includes a video (True or False)\n",
        "- includes a picture (True or False)"
      ]
    },
    {
      "cell_type": "markdown",
      "metadata": {
        "id": "g3VqrY7sCWIB"
      },
      "source": [
        "### 2.B.1 Sentimenting score features"
      ]
    },
    {
      "cell_type": "markdown",
      "metadata": {
        "id": "rkjDof3l4hSZ"
      },
      "source": [
        "We use Sentiment Intensity Analyser (SIA) to categorize the titles, and create four features:\n",
        "\n",
        "- neg: nagative score "
      ]
    },
    {
      "cell_type": "code",
      "metadata": {
        "id": "ZsJqt1sSx6kq"
      },
      "source": [
        "import nltk"
      ],
      "execution_count": null,
      "outputs": []
    },
    {
      "cell_type": "code",
      "metadata": {
        "colab": {
          "base_uri": "https://localhost:8080/"
        },
        "id": "OkI-4Gg7x9tl",
        "outputId": "19515800-0c79-4cd5-fd36-a5a0a023e024"
      },
      "source": [
        "nltk.download('all')"
      ],
      "execution_count": null,
      "outputs": [
        {
          "output_type": "stream",
          "text": [
            "[nltk_data] Downloading collection 'all'\n",
            "[nltk_data]    | \n",
            "[nltk_data]    | Downloading package abc to /root/nltk_data...\n",
            "[nltk_data]    |   Package abc is already up-to-date!\n",
            "[nltk_data]    | Downloading package alpino to /root/nltk_data...\n",
            "[nltk_data]    |   Package alpino is already up-to-date!\n",
            "[nltk_data]    | Downloading package biocreative_ppi to\n",
            "[nltk_data]    |     /root/nltk_data...\n",
            "[nltk_data]    |   Package biocreative_ppi is already up-to-date!\n",
            "[nltk_data]    | Downloading package brown to /root/nltk_data...\n",
            "[nltk_data]    |   Package brown is already up-to-date!\n",
            "[nltk_data]    | Downloading package brown_tei to /root/nltk_data...\n",
            "[nltk_data]    |   Package brown_tei is already up-to-date!\n",
            "[nltk_data]    | Downloading package cess_cat to /root/nltk_data...\n",
            "[nltk_data]    |   Package cess_cat is already up-to-date!\n",
            "[nltk_data]    | Downloading package cess_esp to /root/nltk_data...\n",
            "[nltk_data]    |   Package cess_esp is already up-to-date!\n",
            "[nltk_data]    | Downloading package chat80 to /root/nltk_data...\n",
            "[nltk_data]    |   Package chat80 is already up-to-date!\n",
            "[nltk_data]    | Downloading package city_database to\n",
            "[nltk_data]    |     /root/nltk_data...\n",
            "[nltk_data]    |   Package city_database is already up-to-date!\n",
            "[nltk_data]    | Downloading package cmudict to /root/nltk_data...\n",
            "[nltk_data]    |   Package cmudict is already up-to-date!\n",
            "[nltk_data]    | Downloading package comparative_sentences to\n",
            "[nltk_data]    |     /root/nltk_data...\n",
            "[nltk_data]    |   Package comparative_sentences is already up-to-\n",
            "[nltk_data]    |       date!\n",
            "[nltk_data]    | Downloading package comtrans to /root/nltk_data...\n",
            "[nltk_data]    |   Package comtrans is already up-to-date!\n",
            "[nltk_data]    | Downloading package conll2000 to /root/nltk_data...\n",
            "[nltk_data]    |   Package conll2000 is already up-to-date!\n",
            "[nltk_data]    | Downloading package conll2002 to /root/nltk_data...\n",
            "[nltk_data]    |   Package conll2002 is already up-to-date!\n",
            "[nltk_data]    | Downloading package conll2007 to /root/nltk_data...\n",
            "[nltk_data]    |   Package conll2007 is already up-to-date!\n",
            "[nltk_data]    | Downloading package crubadan to /root/nltk_data...\n",
            "[nltk_data]    |   Package crubadan is already up-to-date!\n",
            "[nltk_data]    | Downloading package dependency_treebank to\n",
            "[nltk_data]    |     /root/nltk_data...\n",
            "[nltk_data]    |   Package dependency_treebank is already up-to-date!\n",
            "[nltk_data]    | Downloading package dolch to /root/nltk_data...\n",
            "[nltk_data]    |   Package dolch is already up-to-date!\n",
            "[nltk_data]    | Downloading package europarl_raw to\n",
            "[nltk_data]    |     /root/nltk_data...\n",
            "[nltk_data]    |   Package europarl_raw is already up-to-date!\n",
            "[nltk_data]    | Downloading package floresta to /root/nltk_data...\n",
            "[nltk_data]    |   Package floresta is already up-to-date!\n",
            "[nltk_data]    | Downloading package framenet_v15 to\n",
            "[nltk_data]    |     /root/nltk_data...\n",
            "[nltk_data]    |   Package framenet_v15 is already up-to-date!\n",
            "[nltk_data]    | Downloading package framenet_v17 to\n",
            "[nltk_data]    |     /root/nltk_data...\n",
            "[nltk_data]    |   Package framenet_v17 is already up-to-date!\n",
            "[nltk_data]    | Downloading package gazetteers to /root/nltk_data...\n",
            "[nltk_data]    |   Package gazetteers is already up-to-date!\n",
            "[nltk_data]    | Downloading package genesis to /root/nltk_data...\n",
            "[nltk_data]    |   Package genesis is already up-to-date!\n",
            "[nltk_data]    | Downloading package gutenberg to /root/nltk_data...\n",
            "[nltk_data]    |   Package gutenberg is already up-to-date!\n",
            "[nltk_data]    | Downloading package ieer to /root/nltk_data...\n",
            "[nltk_data]    |   Package ieer is already up-to-date!\n",
            "[nltk_data]    | Downloading package inaugural to /root/nltk_data...\n",
            "[nltk_data]    |   Package inaugural is already up-to-date!\n",
            "[nltk_data]    | Downloading package indian to /root/nltk_data...\n",
            "[nltk_data]    |   Package indian is already up-to-date!\n",
            "[nltk_data]    | Downloading package jeita to /root/nltk_data...\n",
            "[nltk_data]    |   Package jeita is already up-to-date!\n",
            "[nltk_data]    | Downloading package kimmo to /root/nltk_data...\n",
            "[nltk_data]    |   Package kimmo is already up-to-date!\n",
            "[nltk_data]    | Downloading package knbc to /root/nltk_data...\n",
            "[nltk_data]    |   Package knbc is already up-to-date!\n",
            "[nltk_data]    | Downloading package lin_thesaurus to\n",
            "[nltk_data]    |     /root/nltk_data...\n",
            "[nltk_data]    |   Package lin_thesaurus is already up-to-date!\n",
            "[nltk_data]    | Downloading package mac_morpho to /root/nltk_data...\n",
            "[nltk_data]    |   Package mac_morpho is already up-to-date!\n",
            "[nltk_data]    | Downloading package machado to /root/nltk_data...\n",
            "[nltk_data]    |   Package machado is already up-to-date!\n",
            "[nltk_data]    | Downloading package masc_tagged to /root/nltk_data...\n",
            "[nltk_data]    |   Package masc_tagged is already up-to-date!\n",
            "[nltk_data]    | Downloading package moses_sample to\n",
            "[nltk_data]    |     /root/nltk_data...\n",
            "[nltk_data]    |   Package moses_sample is already up-to-date!\n",
            "[nltk_data]    | Downloading package movie_reviews to\n",
            "[nltk_data]    |     /root/nltk_data...\n",
            "[nltk_data]    |   Package movie_reviews is already up-to-date!\n",
            "[nltk_data]    | Downloading package names to /root/nltk_data...\n",
            "[nltk_data]    |   Package names is already up-to-date!\n",
            "[nltk_data]    | Downloading package nombank.1.0 to /root/nltk_data...\n",
            "[nltk_data]    |   Package nombank.1.0 is already up-to-date!\n",
            "[nltk_data]    | Downloading package nps_chat to /root/nltk_data...\n",
            "[nltk_data]    |   Package nps_chat is already up-to-date!\n",
            "[nltk_data]    | Downloading package omw to /root/nltk_data...\n",
            "[nltk_data]    |   Package omw is already up-to-date!\n",
            "[nltk_data]    | Downloading package opinion_lexicon to\n",
            "[nltk_data]    |     /root/nltk_data...\n",
            "[nltk_data]    |   Package opinion_lexicon is already up-to-date!\n",
            "[nltk_data]    | Downloading package paradigms to /root/nltk_data...\n",
            "[nltk_data]    |   Package paradigms is already up-to-date!\n",
            "[nltk_data]    | Downloading package pil to /root/nltk_data...\n",
            "[nltk_data]    |   Package pil is already up-to-date!\n",
            "[nltk_data]    | Downloading package pl196x to /root/nltk_data...\n",
            "[nltk_data]    |   Package pl196x is already up-to-date!\n",
            "[nltk_data]    | Downloading package ppattach to /root/nltk_data...\n",
            "[nltk_data]    |   Package ppattach is already up-to-date!\n",
            "[nltk_data]    | Downloading package problem_reports to\n",
            "[nltk_data]    |     /root/nltk_data...\n",
            "[nltk_data]    |   Package problem_reports is already up-to-date!\n",
            "[nltk_data]    | Downloading package propbank to /root/nltk_data...\n",
            "[nltk_data]    |   Package propbank is already up-to-date!\n",
            "[nltk_data]    | Downloading package ptb to /root/nltk_data...\n",
            "[nltk_data]    |   Package ptb is already up-to-date!\n",
            "[nltk_data]    | Downloading package product_reviews_1 to\n",
            "[nltk_data]    |     /root/nltk_data...\n",
            "[nltk_data]    |   Package product_reviews_1 is already up-to-date!\n",
            "[nltk_data]    | Downloading package product_reviews_2 to\n",
            "[nltk_data]    |     /root/nltk_data...\n",
            "[nltk_data]    |   Package product_reviews_2 is already up-to-date!\n",
            "[nltk_data]    | Downloading package pros_cons to /root/nltk_data...\n",
            "[nltk_data]    |   Package pros_cons is already up-to-date!\n",
            "[nltk_data]    | Downloading package qc to /root/nltk_data...\n",
            "[nltk_data]    |   Package qc is already up-to-date!\n",
            "[nltk_data]    | Downloading package reuters to /root/nltk_data...\n",
            "[nltk_data]    |   Package reuters is already up-to-date!\n",
            "[nltk_data]    | Downloading package rte to /root/nltk_data...\n",
            "[nltk_data]    |   Package rte is already up-to-date!\n",
            "[nltk_data]    | Downloading package semcor to /root/nltk_data...\n",
            "[nltk_data]    |   Package semcor is already up-to-date!\n",
            "[nltk_data]    | Downloading package senseval to /root/nltk_data...\n",
            "[nltk_data]    |   Package senseval is already up-to-date!\n",
            "[nltk_data]    | Downloading package sentiwordnet to\n",
            "[nltk_data]    |     /root/nltk_data...\n",
            "[nltk_data]    |   Package sentiwordnet is already up-to-date!\n",
            "[nltk_data]    | Downloading package sentence_polarity to\n",
            "[nltk_data]    |     /root/nltk_data...\n",
            "[nltk_data]    |   Package sentence_polarity is already up-to-date!\n",
            "[nltk_data]    | Downloading package shakespeare to /root/nltk_data...\n",
            "[nltk_data]    |   Package shakespeare is already up-to-date!\n",
            "[nltk_data]    | Downloading package sinica_treebank to\n",
            "[nltk_data]    |     /root/nltk_data...\n",
            "[nltk_data]    |   Package sinica_treebank is already up-to-date!\n",
            "[nltk_data]    | Downloading package smultron to /root/nltk_data...\n",
            "[nltk_data]    |   Package smultron is already up-to-date!\n",
            "[nltk_data]    | Downloading package state_union to /root/nltk_data...\n",
            "[nltk_data]    |   Package state_union is already up-to-date!\n",
            "[nltk_data]    | Downloading package stopwords to /root/nltk_data...\n",
            "[nltk_data]    |   Package stopwords is already up-to-date!\n",
            "[nltk_data]    | Downloading package subjectivity to\n",
            "[nltk_data]    |     /root/nltk_data...\n",
            "[nltk_data]    |   Package subjectivity is already up-to-date!\n",
            "[nltk_data]    | Downloading package swadesh to /root/nltk_data...\n",
            "[nltk_data]    |   Package swadesh is already up-to-date!\n",
            "[nltk_data]    | Downloading package switchboard to /root/nltk_data...\n",
            "[nltk_data]    |   Package switchboard is already up-to-date!\n",
            "[nltk_data]    | Downloading package timit to /root/nltk_data...\n",
            "[nltk_data]    |   Package timit is already up-to-date!\n",
            "[nltk_data]    | Downloading package toolbox to /root/nltk_data...\n",
            "[nltk_data]    |   Package toolbox is already up-to-date!\n",
            "[nltk_data]    | Downloading package treebank to /root/nltk_data...\n",
            "[nltk_data]    |   Package treebank is already up-to-date!\n",
            "[nltk_data]    | Downloading package twitter_samples to\n",
            "[nltk_data]    |     /root/nltk_data...\n",
            "[nltk_data]    |   Package twitter_samples is already up-to-date!\n",
            "[nltk_data]    | Downloading package udhr to /root/nltk_data...\n",
            "[nltk_data]    |   Package udhr is already up-to-date!\n",
            "[nltk_data]    | Downloading package udhr2 to /root/nltk_data...\n",
            "[nltk_data]    |   Package udhr2 is already up-to-date!\n",
            "[nltk_data]    | Downloading package unicode_samples to\n",
            "[nltk_data]    |     /root/nltk_data...\n",
            "[nltk_data]    |   Package unicode_samples is already up-to-date!\n",
            "[nltk_data]    | Downloading package universal_treebanks_v20 to\n",
            "[nltk_data]    |     /root/nltk_data...\n",
            "[nltk_data]    |   Package universal_treebanks_v20 is already up-to-\n",
            "[nltk_data]    |       date!\n",
            "[nltk_data]    | Downloading package verbnet to /root/nltk_data...\n",
            "[nltk_data]    |   Package verbnet is already up-to-date!\n",
            "[nltk_data]    | Downloading package verbnet3 to /root/nltk_data...\n",
            "[nltk_data]    |   Package verbnet3 is already up-to-date!\n",
            "[nltk_data]    | Downloading package webtext to /root/nltk_data...\n",
            "[nltk_data]    |   Package webtext is already up-to-date!\n",
            "[nltk_data]    | Downloading package wordnet to /root/nltk_data...\n",
            "[nltk_data]    |   Package wordnet is already up-to-date!\n",
            "[nltk_data]    | Downloading package wordnet_ic to /root/nltk_data...\n",
            "[nltk_data]    |   Package wordnet_ic is already up-to-date!\n",
            "[nltk_data]    | Downloading package words to /root/nltk_data...\n",
            "[nltk_data]    |   Package words is already up-to-date!\n",
            "[nltk_data]    | Downloading package ycoe to /root/nltk_data...\n",
            "[nltk_data]    |   Package ycoe is already up-to-date!\n",
            "[nltk_data]    | Downloading package rslp to /root/nltk_data...\n",
            "[nltk_data]    |   Package rslp is already up-to-date!\n",
            "[nltk_data]    | Downloading package maxent_treebank_pos_tagger to\n",
            "[nltk_data]    |     /root/nltk_data...\n",
            "[nltk_data]    |   Package maxent_treebank_pos_tagger is already up-\n",
            "[nltk_data]    |       to-date!\n",
            "[nltk_data]    | Downloading package universal_tagset to\n",
            "[nltk_data]    |     /root/nltk_data...\n",
            "[nltk_data]    |   Package universal_tagset is already up-to-date!\n",
            "[nltk_data]    | Downloading package maxent_ne_chunker to\n",
            "[nltk_data]    |     /root/nltk_data...\n",
            "[nltk_data]    |   Package maxent_ne_chunker is already up-to-date!\n",
            "[nltk_data]    | Downloading package punkt to /root/nltk_data...\n",
            "[nltk_data]    |   Package punkt is already up-to-date!\n",
            "[nltk_data]    | Downloading package book_grammars to\n",
            "[nltk_data]    |     /root/nltk_data...\n",
            "[nltk_data]    |   Package book_grammars is already up-to-date!\n",
            "[nltk_data]    | Downloading package sample_grammars to\n",
            "[nltk_data]    |     /root/nltk_data...\n",
            "[nltk_data]    |   Package sample_grammars is already up-to-date!\n",
            "[nltk_data]    | Downloading package spanish_grammars to\n",
            "[nltk_data]    |     /root/nltk_data...\n",
            "[nltk_data]    |   Package spanish_grammars is already up-to-date!\n",
            "[nltk_data]    | Downloading package basque_grammars to\n",
            "[nltk_data]    |     /root/nltk_data...\n",
            "[nltk_data]    |   Package basque_grammars is already up-to-date!\n",
            "[nltk_data]    | Downloading package large_grammars to\n",
            "[nltk_data]    |     /root/nltk_data...\n",
            "[nltk_data]    |   Package large_grammars is already up-to-date!\n",
            "[nltk_data]    | Downloading package tagsets to /root/nltk_data...\n",
            "[nltk_data]    |   Package tagsets is already up-to-date!\n",
            "[nltk_data]    | Downloading package snowball_data to\n",
            "[nltk_data]    |     /root/nltk_data...\n",
            "[nltk_data]    |   Package snowball_data is already up-to-date!\n",
            "[nltk_data]    | Downloading package bllip_wsj_no_aux to\n",
            "[nltk_data]    |     /root/nltk_data...\n",
            "[nltk_data]    |   Package bllip_wsj_no_aux is already up-to-date!\n",
            "[nltk_data]    | Downloading package word2vec_sample to\n",
            "[nltk_data]    |     /root/nltk_data...\n",
            "[nltk_data]    |   Package word2vec_sample is already up-to-date!\n",
            "[nltk_data]    | Downloading package panlex_swadesh to\n",
            "[nltk_data]    |     /root/nltk_data...\n",
            "[nltk_data]    |   Package panlex_swadesh is already up-to-date!\n",
            "[nltk_data]    | Downloading package mte_teip5 to /root/nltk_data...\n",
            "[nltk_data]    |   Package mte_teip5 is already up-to-date!\n",
            "[nltk_data]    | Downloading package averaged_perceptron_tagger to\n",
            "[nltk_data]    |     /root/nltk_data...\n",
            "[nltk_data]    |   Package averaged_perceptron_tagger is already up-\n",
            "[nltk_data]    |       to-date!\n",
            "[nltk_data]    | Downloading package averaged_perceptron_tagger_ru to\n",
            "[nltk_data]    |     /root/nltk_data...\n",
            "[nltk_data]    |   Package averaged_perceptron_tagger_ru is already\n",
            "[nltk_data]    |       up-to-date!\n",
            "[nltk_data]    | Downloading package perluniprops to\n",
            "[nltk_data]    |     /root/nltk_data...\n",
            "[nltk_data]    |   Package perluniprops is already up-to-date!\n",
            "[nltk_data]    | Downloading package nonbreaking_prefixes to\n",
            "[nltk_data]    |     /root/nltk_data...\n",
            "[nltk_data]    |   Package nonbreaking_prefixes is already up-to-date!\n",
            "[nltk_data]    | Downloading package vader_lexicon to\n",
            "[nltk_data]    |     /root/nltk_data...\n",
            "[nltk_data]    |   Package vader_lexicon is already up-to-date!\n",
            "[nltk_data]    | Downloading package porter_test to /root/nltk_data...\n",
            "[nltk_data]    |   Package porter_test is already up-to-date!\n",
            "[nltk_data]    | Downloading package wmt15_eval to /root/nltk_data...\n",
            "[nltk_data]    |   Package wmt15_eval is already up-to-date!\n",
            "[nltk_data]    | Downloading package mwa_ppdb to /root/nltk_data...\n",
            "[nltk_data]    |   Package mwa_ppdb is already up-to-date!\n",
            "[nltk_data]    | \n",
            "[nltk_data]  Done downloading collection all\n"
          ],
          "name": "stdout"
        },
        {
          "output_type": "execute_result",
          "data": {
            "text/plain": [
              "True"
            ]
          },
          "metadata": {
            "tags": []
          },
          "execution_count": 319
        }
      ]
    },
    {
      "cell_type": "code",
      "metadata": {
        "id": "q-mAvutQ4Yj1"
      },
      "source": [
        "# from nltk.sentiment.vader import SentimentIntensityAnalyzer as SIA\n",
        "\n",
        "compound_list, neg_list, neu_list, pos_list = [], [], [], []\n",
        "for i in range(len(df['title'])):\n",
        "  if np.mod(i, 10000) ==0:\n",
        "    print(i)\n",
        "  pol_score = SIA().polarity_scores(df['title'][i])\n",
        "  compound_list.append(pol_score['compound'])\n",
        "  neg_list.append(pol_score['neg'])\n",
        "  neu_list.append(pol_score['neu'])\n",
        "  pos_list.append(pol_score['pos'])"
      ],
      "execution_count": null,
      "outputs": []
    },
    {
      "cell_type": "code",
      "metadata": {
        "id": "dlXwJyh_t6ix"
      },
      "source": [
        "#Create a new dataframe storing sentimenting scores\n",
        "df_sia = pd.DataFrame()\n",
        "df_sia['neg'] = neg_list\n",
        "df_sia['neu'] = neu_list\n",
        "df_sia['pos'] = pos_list\n",
        "df_sia['compound'] = compound_list"
      ],
      "execution_count": null,
      "outputs": []
    },
    {
      "cell_type": "code",
      "metadata": {
        "colab": {
          "base_uri": "https://localhost:8080/",
          "height": 204
        },
        "id": "pURHguA_lPjN",
        "outputId": "6009de80-ba64-43ac-8c70-14d2e613bc69"
      },
      "source": [
        "df_sia.head()"
      ],
      "execution_count": null,
      "outputs": [
        {
          "output_type": "execute_result",
          "data": {
            "text/html": [
              "<div>\n",
              "<style scoped>\n",
              "    .dataframe tbody tr th:only-of-type {\n",
              "        vertical-align: middle;\n",
              "    }\n",
              "\n",
              "    .dataframe tbody tr th {\n",
              "        vertical-align: top;\n",
              "    }\n",
              "\n",
              "    .dataframe thead th {\n",
              "        text-align: right;\n",
              "    }\n",
              "</style>\n",
              "<table border=\"1\" class=\"dataframe\">\n",
              "  <thead>\n",
              "    <tr style=\"text-align: right;\">\n",
              "      <th></th>\n",
              "      <th>neg</th>\n",
              "      <th>neu</th>\n",
              "      <th>pos</th>\n",
              "      <th>compound</th>\n",
              "    </tr>\n",
              "  </thead>\n",
              "  <tbody>\n",
              "    <tr>\n",
              "      <th>0</th>\n",
              "      <td>0.529</td>\n",
              "      <td>0.471</td>\n",
              "      <td>0.000</td>\n",
              "      <td>-0.6705</td>\n",
              "    </tr>\n",
              "    <tr>\n",
              "      <th>1</th>\n",
              "      <td>0.000</td>\n",
              "      <td>1.000</td>\n",
              "      <td>0.000</td>\n",
              "      <td>0.0000</td>\n",
              "    </tr>\n",
              "    <tr>\n",
              "      <th>2</th>\n",
              "      <td>0.000</td>\n",
              "      <td>1.000</td>\n",
              "      <td>0.000</td>\n",
              "      <td>0.0000</td>\n",
              "    </tr>\n",
              "    <tr>\n",
              "      <th>3</th>\n",
              "      <td>0.000</td>\n",
              "      <td>0.652</td>\n",
              "      <td>0.348</td>\n",
              "      <td>0.4939</td>\n",
              "    </tr>\n",
              "    <tr>\n",
              "      <th>4</th>\n",
              "      <td>0.362</td>\n",
              "      <td>0.638</td>\n",
              "      <td>0.000</td>\n",
              "      <td>-0.5267</td>\n",
              "    </tr>\n",
              "  </tbody>\n",
              "</table>\n",
              "</div>"
            ],
            "text/plain": [
              "     neg    neu    pos  compound\n",
              "0  0.529  0.471  0.000   -0.6705\n",
              "1  0.000  1.000  0.000    0.0000\n",
              "2  0.000  1.000  0.000    0.0000\n",
              "3  0.000  0.652  0.348    0.4939\n",
              "4  0.362  0.638  0.000   -0.5267"
            ]
          },
          "metadata": {
            "tags": []
          },
          "execution_count": 323
        }
      ]
    },
    {
      "cell_type": "code",
      "metadata": {
        "id": "Hjs3uFa65OxN"
      },
      "source": [
        "#append the SIA data to other features\n",
        "df_new = pd.concat([df_new, df_sia], axis=1)"
      ],
      "execution_count": null,
      "outputs": []
    },
    {
      "cell_type": "markdown",
      "metadata": {
        "id": "RykPxJGNq0oA"
      },
      "source": [
        "### 2.B.2 Readability and word count features"
      ]
    },
    {
      "cell_type": "markdown",
      "metadata": {
        "id": "MieF7em2q-nm"
      },
      "source": [
        "We determined the readability of each title using the textstat library.\n",
        "\n",
        "To avoid U.S. being split into a word 'U' and 'S', and U.N. to 'U' and 'N', we change them to 'US' and 'UN' to preserve the words. We do this engineering since US (us, U.S., u.s.) is the most common word in the whole dataset (done separately using RegexpTokenizer, 10 most common words are:\n",
        "[('us', 41740),\n",
        " ('china', 26397),\n",
        " ('says', 25432),\n",
        " ('new', 23388),\n",
        " ('syria', 19023),\n",
        " ('russia', 18766),\n",
        " ('world', 18091),\n",
        " ('police', 16654),\n",
        " ('government', 16305),\n",
        " ('israel', 16047)]).)\n",
        " U.N. is also one of the common words.)\n",
        "\n",
        "Also, we get rid of [pics] and [video] from titles since they are not related to the title itself."
      ]
    },
    {
      "cell_type": "code",
      "metadata": {
        "colab": {
          "base_uri": "https://localhost:8080/"
        },
        "id": "HDzRwbXsq37L",
        "outputId": "657a2f33-c6a9-4f0f-8e25-921b8e0e5fe5"
      },
      "source": [
        "!pip install textstat"
      ],
      "execution_count": null,
      "outputs": [
        {
          "output_type": "stream",
          "text": [
            "Requirement already satisfied: textstat in /usr/local/lib/python3.7/dist-packages (0.7.0)\n",
            "Requirement already satisfied: pyphen in /usr/local/lib/python3.7/dist-packages (from textstat) (0.10.0)\n"
          ],
          "name": "stdout"
        }
      ]
    },
    {
      "cell_type": "code",
      "metadata": {
        "id": "ldPHYtPia4Ny"
      },
      "source": [
        "from nltk.tokenize import word_tokenize, RegexpTokenizer\n",
        "from nltk.corpus import stopwords\n",
        "import re\n",
        "import textstat\n"
      ],
      "execution_count": null,
      "outputs": []
    },
    {
      "cell_type": "code",
      "metadata": {
        "id": "SXTWI7zFAcjn"
      },
      "source": [
        "tokenizer = RegexpTokenizer(r'\\w+')\n",
        "stop_words = stopwords.words('english')\n",
        "\n",
        "readability_list = []\n",
        "wordcount_list = []\n",
        "tokens_all = []\n",
        "tokens_list = []\n",
        "title_length = []\n",
        "\n",
        "for title in df['title']:\n",
        "  #take out [video] and [pic]\n",
        "  title = re.split('\\[pics\\]', title, 1)[0]\n",
        "  title = re.split('\\[video\\]', title, 1)[0]\n",
        "    \n",
        "  #change U.N./U.S. to un/us\n",
        "  title = title.replace('U.N.', 'UN') \n",
        "  title = title.replace('u.n.', 'un')  \n",
        "  title = title.replace('U.S.', 'US')  \n",
        "  title = title.replace('u.s.', 'us') \n",
        "\n",
        "  #tokenize\n",
        "  tokenize0 = tokenizer.tokenize(title)\n",
        "  \n",
        "  #get number of words\n",
        "  title_length.append(len(tokenize0))\n",
        "\n",
        "  #get readability\n",
        "  readability = textstat.flesch_kincaid_grade(title)\n",
        "  readability_list.append(readability)\n",
        "\n",
        "  #change to lower cases and get rid of stop words\n",
        "  # tokenize = [t.lower() for t in tokenize0 if t.lower() not in stop_words]\n",
        "  # tokens_list.append(tokenize)\n",
        "  # tokens_all.extend(tokenize)"
      ],
      "execution_count": null,
      "outputs": []
    },
    {
      "cell_type": "code",
      "metadata": {
        "colab": {
          "base_uri": "https://localhost:8080/",
          "height": 296
        },
        "id": "C5I9Du2pyRmL",
        "outputId": "91e79eff-0f65-41a8-e134-eb6baa7af6f6"
      },
      "source": [
        "plt.hist(readability_list, bins=100)\n",
        "plt.ylabel('Frequency')\n",
        "plt.xlabel('readability')\n",
        "plt.plot()"
      ],
      "execution_count": null,
      "outputs": [
        {
          "output_type": "execute_result",
          "data": {
            "text/plain": [
              "[]"
            ]
          },
          "metadata": {
            "tags": []
          },
          "execution_count": 328
        },
        {
          "output_type": "display_data",
          "data": {
            "image/png": "[encoded data removed]",
            "text/plain": [
              "<Figure size 432x288 with 1 Axes>"
            ]
          },
          "metadata": {
            "tags": []
          }
        }
      ]
    },
    {
      "cell_type": "code",
      "metadata": {
        "id": "UR03N1ecx_XD"
      },
      "source": [
        "#add the readability feature\n",
        "df_new['title_readability'] = readability_list\n",
        "df_new['title_length'] = title_length"
      ],
      "execution_count": null,
      "outputs": []
    },
    {
      "cell_type": "code",
      "metadata": {
        "colab": {
          "base_uri": "https://localhost:8080/"
        },
        "id": "6UN8xxzAynbg",
        "outputId": "d286f179-cb88-4b7b-87f8-9aa44b722a62"
      },
      "source": [
        "df['title'][df_new['title_readability']>100]"
      ],
      "execution_count": null,
      "outputs": [
        {
          "output_type": "execute_result",
          "data": {
            "text/plain": [
              "1753      http://mentalmasturbator.com/2008/03/21/democr...\n",
              "12255     Burma:+Buddhist+migrants+pressured+to+convert+...\n",
              "19060       International+Condemnation;+Continuity+in+Burma\n",
              "26874     http://www.comcast.net/data/fan/html/popup.htm...\n",
              "36567                 australia-aborigine-cooked-prison-van\n",
              "38705     xe-formally-blackwater-contractors-of-murder-k...\n",
              "43102     http://www.dawn.com/wps/wcm/connect/dawn-conte...\n",
              "43936              indymac-program-to-modify-mortgage-loans\n",
              "79953     http://www.nypost.com/p/news/international/nuc...\n",
              "244057    nsa-effort-pries-open-computers-not-connected-...\n",
              "269984    Israel-says-it-will-no-longer-target-Palestini...\n",
              "333678    http://www.independent.co.uk/news/uk/crime/pri...\n",
              "347604    Exiled-Iranian-says-Tehran-hiding-secret-urani...\n",
              "353331    egyptian-president-abdel-fatah-al-sissi-who-ta...\n",
              "412781    French-President-Hollande-was-top-target-in-mu...\n",
              "473250    https://www.theguardian.com/sport/2016/jun/28/...\n",
              "Name: title, dtype: object"
            ]
          },
          "metadata": {
            "tags": []
          },
          "execution_count": 330
        }
      ]
    },
    {
      "cell_type": "markdown",
      "metadata": {
        "id": "8AsgaX0V0oNs"
      },
      "source": [
        "Titles with links and with '-' scored high readability."
      ]
    },
    {
      "cell_type": "markdown",
      "metadata": {
        "id": "2brds3c5ChW1"
      },
      "source": [
        "### 2.B.2 Features derived from Vectorization (Doc2Vec)"
      ]
    },
    {
      "cell_type": "markdown",
      "metadata": {
        "id": "ZVHveuEgawuB"
      },
      "source": [
        "\n",
        "\n",
        "Next we will derive features:\n",
        "- 2 Word Vecors (float) derived from Vectorization\n"
      ]
    },
    {
      "cell_type": "code",
      "metadata": {
        "id": "HxLHBT118F4o"
      },
      "source": [
        "from sklearn.pipeline import Pipeline\n",
        "from sklearn.decomposition import PCA\n",
        "from gensim.models.doc2vec import TaggedDocument, Doc2Vec\n",
        "from sklearn.base import BaseEstimator, TransformerMixin\n",
        "from sklearn.linear_model import LogisticRegression\n",
        "from sklearn.model_selection import train_test_split\n",
        "from gensim.parsing.preprocessing import preprocess_string\n",
        "from sklearn import utils\n",
        "from tqdm import tqdm\n",
        "import multiprocessing\n",
        "\n",
        "class Doc2VecTransformer(BaseEstimator):\n",
        "  def __init__(self, vector_size=100, learning_rate=0.02, epochs=20):\n",
        "    self.learning_rate = learning_rate\n",
        "    self.epochs = epochs\n",
        "    self._model = None\n",
        "    self.vector_size = vector_size\n",
        "    self.workers = multiprocessing.cpu_count()\n",
        "\n",
        "  def fit(self, df_x, df_y=None):\n",
        "    tagged_x = [TaggedDocument(preprocess_string(row['title']), [index]) for index, row in df_x.iterrows()]\n",
        "    model = Doc2Vec(documents=tagged_x, vector_size=self.vector_size, workers=self.workers, min_count=1)\n",
        "    for epoch in range(self.epochs):\n",
        "      model.train(utils.shuffle([x for x in tqdm(tagged_x)]), total_examples=len(tagged_x), epochs=1)\n",
        "      model.alpha -= self.learning_rate\n",
        "      model.min_alpha = model.alpha\n",
        "      self._model = model\n",
        "    return self\n",
        "\n",
        "  def transform(self, df_x):\n",
        "    return np.asmatrix(np.array([self._model.infer_vector(preprocess_string(row['title'])) for index, row in df_x.iterrows()]))"
      ],
      "execution_count": null,
      "outputs": []
    },
    {
      "cell_type": "code",
      "metadata": {
        "id": "DsM_IFd8zjNr"
      },
      "source": [
        "df_title = df['title'].to_frame()\n",
        "d2v = Doc2VecTransformer(vector_size =2)\n",
        "d2v.fit(df_title)\n",
        "vector = transform(df_title)\n",
        "\n",
        "vec1 = list(np.array(vectors)[:,0])\n",
        "vec2 = list(np.array(vectors)[:,1])\n",
        "\n",
        "df_vector = pd.DataFrame({'vec1':vec1, 'vec2':vec2})"
      ],
      "execution_count": null,
      "outputs": []
    },
    {
      "cell_type": "code",
      "metadata": {
        "colab": {
          "base_uri": "https://localhost:8080/",
          "height": 313
        },
        "id": "0XrOMENMV4Rg",
        "outputId": "21488beb-436f-42d3-8859-60d82bbaf912"
      },
      "source": [
        "plt.scatter(df_vector['vec1'], df_vector['vec2'], c=np.log(df['up_votes']), s=1)\n",
        "plt.xlabel('vector 1')\n",
        "plt.ylabel('vector 2')\n",
        "plt.show()"
      ],
      "execution_count": null,
      "outputs": [
        {
          "output_type": "stream",
          "text": [
            "/usr/local/lib/python3.7/dist-packages/pandas/core/series.py:726: RuntimeWarning: divide by zero encountered in log\n",
            "  result = getattr(ufunc, method)(*inputs, **kwargs)\n"
          ],
          "name": "stderr"
        },
        {
          "output_type": "display_data",
          "data": {
            "image/png": "[encoded data removed]",
            "text/plain": [
              "<Figure size 432x288 with 1 Axes>"
            ]
          },
          "metadata": {
            "tags": []
          }
        }
      ]
    },
    {
      "cell_type": "markdown",
      "metadata": {
        "id": "tvsXONKo12pl"
      },
      "source": [
        "Ideally we want data samples to be clustered with similar color (similar up votes values), but we will add these word vectors as features. If we have more time, we could map the titles into larger dimensions, (larger number of word vecters). Then we could implement the Principal Component Analysis based on the upvotes to lower the dimension. (However, this takes a lot of time)."
      ]
    },
    {
      "cell_type": "markdown",
      "metadata": {
        "id": "ohotXctn0pwB"
      },
      "source": [
        "Add these two vectors as features"
      ]
    },
    {
      "cell_type": "code",
      "metadata": {
        "id": "cD9NIR2R8xSM"
      },
      "source": [
        "# train model\n",
        "df_new = pd.concat([df_new, df_vector], axis=1)"
      ],
      "execution_count": null,
      "outputs": []
    },
    {
      "cell_type": "markdown",
      "metadata": {
        "id": "gdWgRpuGleZL"
      },
      "source": [
        "### 2.B.3 Other features from 'title'"
      ]
    },
    {
      "cell_type": "markdown",
      "metadata": {
        "id": "HVohheLpllvL"
      },
      "source": [
        "Add a feature to tell if the whole title\n",
        " - is written in uppercases (0(False) or 1(True)).\n",
        " - includes '!' (0 or 1)\n",
        " - includes '?' (0 or 1)\n",
        " - includes a video (0 or 1)\n",
        " - includes a picture (0 or 1)"
      ]
    },
    {
      "cell_type": "code",
      "metadata": {
        "id": "tMc45n2vkNdH"
      },
      "source": [
        "title_upper, title_exclm, title_question = [], [], []\n",
        "title_pic, title_video = [], []\n",
        "\n",
        "for title in df['title']:\n",
        "  title_upper.append(int(title.isupper()))\n",
        "  title_exclm.append(int('!' in title))\n",
        "  title_question.append(int('?' in title))\n",
        "  title_pic.append(int('[video]' in title))\n",
        "  title_video.append(int('[pic]' in title))\n",
        "\n",
        "df_new['title_uppercase'] = title_upper\n",
        "df_new['title_exclm'] = title_exclm\n",
        "df_new['title_question'] = title_question\n",
        "df_new['title_pic'] = title_pic\n",
        "df_new['title_video'] = title_video"
      ],
      "execution_count": null,
      "outputs": []
    },
    {
      "cell_type": "code",
      "metadata": {
        "colab": {
          "base_uri": "https://localhost:8080/"
        },
        "id": "WhQhXNdhlOc7",
        "outputId": "c6fb321b-df58-409d-dc90-cae3997dc539"
      },
      "source": [
        "print('Examples of titles written in all upper cases')\n",
        "df['title'][df_new['title_uppercase']==1].head(3)"
      ],
      "execution_count": null,
      "outputs": [
        {
          "output_type": "stream",
          "text": [
            "Examples of titles written in all upper cases\n"
          ],
          "name": "stdout"
        },
        {
          "output_type": "execute_result",
          "data": {
            "text/plain": [
              "78        INTERNET DAMAGED CABLES TO BE FIXED BY FEB 10\n",
              "97     AL QAEDA LEADERS ARE NOT OPERATING FROM PAKISTAN\n",
              "577                                           CHCNK OUT\n",
              "Name: title, dtype: object"
            ]
          },
          "metadata": {
            "tags": []
          },
          "execution_count": 338
        }
      ]
    },
    {
      "cell_type": "code",
      "metadata": {
        "colab": {
          "base_uri": "https://localhost:8080/"
        },
        "id": "CJylB2XCmQnb",
        "outputId": "4ff5db68-31f0-4f83-966c-deec2c290f39"
      },
      "source": [
        "print('Examples of titles including an exclamation mark')\n",
        "df['title'][df_new['title_exclm']==1].head(3)\n"
      ],
      "execution_count": null,
      "outputs": [
        {
          "output_type": "stream",
          "text": [
            "Examples of titles including an exclamation mark\n"
          ],
          "name": "stdout"
        },
        {
          "output_type": "execute_result",
          "data": {
            "text/plain": [
              "5      Hay presto! Farmer unveils the  illegal  mock-...\n",
              "144            BBC cover Anonymous Scientology Protests!\n",
              "192    Go and see this exhibition if you are from Lon...\n",
              "Name: title, dtype: object"
            ]
          },
          "metadata": {
            "tags": []
          },
          "execution_count": 339
        }
      ]
    },
    {
      "cell_type": "code",
      "metadata": {
        "colab": {
          "base_uri": "https://localhost:8080/"
        },
        "id": "ptZmi0DznT8y",
        "outputId": "4c4b13f7-eced-47c8-e484-615b3b45b21d"
      },
      "source": [
        "print('Examples of titles including an question mark')\n",
        "df['title'][df_new['title_question']==1].head(3)"
      ],
      "execution_count": null,
      "outputs": [
        {
          "output_type": "stream",
          "text": [
            "Examples of titles including an question mark\n"
          ],
          "name": "stdout"
        },
        {
          "output_type": "execute_result",
          "data": {
            "text/plain": [
              "20           Possible  Guantanamo  on UK soil?  [video]\n",
              "30       What the hell is going on in the Eastern Cape?\n",
              "46    Who cuts undersea cables in the Middle East? A...\n",
              "Name: title, dtype: object"
            ]
          },
          "metadata": {
            "tags": []
          },
          "execution_count": 340
        }
      ]
    },
    {
      "cell_type": "markdown",
      "metadata": {
        "id": "dG8ybw3Db47W"
      },
      "source": [
        "## 2.C Author feature"
      ]
    },
    {
      "cell_type": "markdown",
      "metadata": {
        "id": "2ZHAzq4u63SD"
      },
      "source": [
        "Take a look at the distribution of authors."
      ]
    },
    {
      "cell_type": "code",
      "metadata": {
        "colab": {
          "base_uri": "https://localhost:8080/"
        },
        "id": "-OuCNOzX6rxz",
        "outputId": "1aedd7d6-b7e3-4e5c-e182-6d698ab02f10"
      },
      "source": [
        "print('Number of samples by the author ')\n",
        "author_counts = df.author.value_counts()\n",
        "print(author_counts[:5])"
      ],
      "execution_count": null,
      "outputs": [
        {
          "output_type": "stream",
          "text": [
            "Number of samples by the author \n",
            "davidreiss666    8897\n",
            "anutensil        5730\n",
            "DoremusJessup    5037\n",
            "maxwellhill      4023\n",
            "igeldard         4013\n",
            "Name: author, dtype: int64\n"
          ],
          "name": "stdout"
        }
      ]
    },
    {
      "cell_type": "code",
      "metadata": {
        "colab": {
          "base_uri": "https://localhost:8080/",
          "height": 279
        },
        "id": "WxdAa6jK6rx0",
        "outputId": "3ee05640-2213-4b72-fd47-5d1a6fd399d8"
      },
      "source": [
        "author_counts.hist(bins=200, log=True)\n",
        "plt.xlabel('number of samples by an author')\n",
        "plt.ylabel('numer of samples')\n",
        "plt.show()"
      ],
      "execution_count": null,
      "outputs": [
        {
          "output_type": "display_data",
          "data": {
            "image/png": "[encoded data removed]",
            "text/plain": [
              "<Figure size 432x288 with 1 Axes>"
            ]
          },
          "metadata": {
            "tags": []
          }
        }
      ]
    },
    {
      "cell_type": "markdown",
      "metadata": {
        "id": "C7dBBfUbE9TY"
      },
      "source": [
        "First we change the name of the author who has less than 5 datapoints to 'anonymous'. We don't need to identify these individuals since in the tree based ML model, we will likely to limit the number of data in each leave to be >=5."
      ]
    },
    {
      "cell_type": "code",
      "metadata": {
        "colab": {
          "base_uri": "https://localhost:8080/"
        },
        "id": "68xY11LbFikQ",
        "outputId": "bc83039c-2b38-4713-d1ac-b7b56c61fc9e"
      },
      "source": [
        "n_authors = len(author_counts)\n",
        "print('number of authors: ', n_authors)\n",
        "print('number of authors with less than 5 samples: ', len(author_counts[author_counts<5]))"
      ],
      "execution_count": null,
      "outputs": [
        {
          "output_type": "stream",
          "text": [
            "number of authors:  12000\n",
            "number of authors with less than 5 samples:  0\n"
          ],
          "name": "stdout"
        }
      ]
    },
    {
      "cell_type": "code",
      "metadata": {
        "colab": {
          "base_uri": "https://localhost:8080/"
        },
        "id": "Veq2yfKoGHcQ",
        "outputId": "ce36fdaa-0cfa-436e-fc9f-5012f2eda08f"
      },
      "source": [
        "mask = df['author'].isin(author_counts[author_counts > 4].index)\n",
        "#change author name with equal or less than 5 samples to 'anonymous'\n",
        "df['author'][~mask] = 'anonymous'"
      ],
      "execution_count": null,
      "outputs": [
        {
          "output_type": "stream",
          "text": [
            "/usr/local/lib/python3.7/dist-packages/ipykernel_launcher.py:3: SettingWithCopyWarning: \n",
            "A value is trying to be set on a copy of a slice from a DataFrame\n",
            "\n",
            "See the caveats in the documentation: https://pandas.pydata.org/pandas-docs/stable/user_guide/indexing.html#returning-a-view-versus-a-copy\n",
            "  This is separate from the ipykernel package so we can avoid doing imports until\n"
          ],
          "name": "stderr"
        }
      ]
    },
    {
      "cell_type": "markdown",
      "metadata": {
        "id": "coY6rl_j6rx0"
      },
      "source": [
        "Here we convert the author variable shown as a name (object) to integer, to create an integer-encoded categorical feature."
      ]
    },
    {
      "cell_type": "code",
      "metadata": {
        "id": "a7XgaC_w722o"
      },
      "source": [
        "#create a map from author name to index\n",
        "authors_list = list(author_counts.index)\n",
        "map_author = dict(zip(list(author_counts.index), list(range(n_authors))))\n"
      ],
      "execution_count": null,
      "outputs": []
    },
    {
      "cell_type": "code",
      "metadata": {
        "colab": {
          "base_uri": "https://localhost:8080/"
        },
        "id": "OvbHg8sp6rx0",
        "outputId": "51e4ae8d-1d0f-4b86-bdbf-a77458332e5a"
      },
      "source": [
        "import category_encoders as ce\n",
        "# create object of Ordinalencoding\n",
        "encoder= ce.OrdinalEncoder(cols=['author'],return_df=True, mapping=[{'col':'author',\n",
        "'mapping':map_author}])\n",
        "\n",
        "#fit and transform train data \n",
        "df_auhtor_transformed = encoder.fit_transform(df['author'])"
      ],
      "execution_count": null,
      "outputs": [
        {
          "output_type": "stream",
          "text": [
            "/usr/local/lib/python3.7/dist-packages/statsmodels/tools/_testing.py:19: FutureWarning: pandas.util.testing is deprecated. Use the functions in the public API at pandas.testing instead.\n",
            "  import pandas.util.testing as tm\n",
            "/usr/local/lib/python3.7/dist-packages/category_encoders/utils.py:21: FutureWarning: is_categorical is deprecated and will be removed in a future version.  Use is_categorical_dtype instead\n",
            "  elif pd.api.types.is_categorical(cols):\n"
          ],
          "name": "stderr"
        }
      ]
    },
    {
      "cell_type": "markdown",
      "metadata": {
        "id": "X4plD6x2_rk2"
      },
      "source": [
        "Now the author variable was changed to an integer-encoded categorical feature."
      ]
    },
    {
      "cell_type": "code",
      "metadata": {
        "colab": {
          "base_uri": "https://localhost:8080/",
          "height": 204
        },
        "id": "W-3RA6ka_aha",
        "outputId": "c4a5f5e7-64ed-41bf-8883-67be9dc9fef9"
      },
      "source": [
        "pd.concat([df['author'], df_auhtor_transformed], axis=1).head(5)"
      ],
      "execution_count": null,
      "outputs": [
        {
          "output_type": "execute_result",
          "data": {
            "text/html": [
              "<div>\n",
              "<style scoped>\n",
              "    .dataframe tbody tr th:only-of-type {\n",
              "        vertical-align: middle;\n",
              "    }\n",
              "\n",
              "    .dataframe tbody tr th {\n",
              "        vertical-align: top;\n",
              "    }\n",
              "\n",
              "    .dataframe thead th {\n",
              "        text-align: right;\n",
              "    }\n",
              "</style>\n",
              "<table border=\"1\" class=\"dataframe\">\n",
              "  <thead>\n",
              "    <tr style=\"text-align: right;\">\n",
              "      <th></th>\n",
              "      <th>author</th>\n",
              "      <th>author</th>\n",
              "    </tr>\n",
              "  </thead>\n",
              "  <tbody>\n",
              "    <tr>\n",
              "      <th>0</th>\n",
              "      <td>polar</td>\n",
              "      <td>1301</td>\n",
              "    </tr>\n",
              "    <tr>\n",
              "      <th>1</th>\n",
              "      <td>polar</td>\n",
              "      <td>1301</td>\n",
              "    </tr>\n",
              "    <tr>\n",
              "      <th>2</th>\n",
              "      <td>polar</td>\n",
              "      <td>1301</td>\n",
              "    </tr>\n",
              "    <tr>\n",
              "      <th>3</th>\n",
              "      <td>anonymous</td>\n",
              "      <td>0</td>\n",
              "    </tr>\n",
              "    <tr>\n",
              "      <th>4</th>\n",
              "      <td>anonymous</td>\n",
              "      <td>0</td>\n",
              "    </tr>\n",
              "  </tbody>\n",
              "</table>\n",
              "</div>"
            ],
            "text/plain": [
              "      author  author\n",
              "0      polar    1301\n",
              "1      polar    1301\n",
              "2      polar    1301\n",
              "3  anonymous       0\n",
              "4  anonymous       0"
            ]
          },
          "metadata": {
            "tags": []
          },
          "execution_count": 34
        }
      ]
    },
    {
      "cell_type": "code",
      "metadata": {
        "id": "z27HfCErv9m_"
      },
      "source": [
        "#add this feature to the dataframe df_new\n",
        "df_new = pd.concat([df_new, df_auhtor_transformed], axis=1)"
      ],
      "execution_count": null,
      "outputs": []
    },
    {
      "cell_type": "markdown",
      "metadata": {
        "id": "egaRx61Qscvx"
      },
      "source": [
        "## 2.D Other features"
      ]
    },
    {
      "cell_type": "markdown",
      "metadata": {
        "id": "tVq9aCA1sk3C"
      },
      "source": [
        "The remaining variables in the dataset not in use are 'over_18' and 'category'. Since 'category' is 'worldnews' for all samples, so it is useless as a feature. Variable 'over_18' is already shown in boolean, so it can be readily used as a feature."
      ]
    },
    {
      "cell_type": "code",
      "metadata": {
        "id": "xoWBLza6tPOm"
      },
      "source": [
        "df_new['over_18'] = df['over_18'].astype(int)"
      ],
      "execution_count": null,
      "outputs": []
    },
    {
      "cell_type": "markdown",
      "metadata": {
        "id": "ZzXGYC08Bzze"
      },
      "source": [
        "Now all the features are created. Now we have 20 features"
      ]
    },
    {
      "cell_type": "code",
      "metadata": {
        "colab": {
          "base_uri": "https://localhost:8080/",
          "height": 224
        },
        "id": "TUHta2f1B3Ak",
        "outputId": "23fbf1ab-3f29-4249-9722-9ec81dcbcba0"
      },
      "source": [
        "df_new.head()"
      ],
      "execution_count": null,
      "outputs": [
        {
          "output_type": "execute_result",
          "data": {
            "text/html": [
              "<div>\n",
              "<style scoped>\n",
              "    .dataframe tbody tr th:only-of-type {\n",
              "        vertical-align: middle;\n",
              "    }\n",
              "\n",
              "    .dataframe tbody tr th {\n",
              "        vertical-align: top;\n",
              "    }\n",
              "\n",
              "    .dataframe thead th {\n",
              "        text-align: right;\n",
              "    }\n",
              "</style>\n",
              "<table border=\"1\" class=\"dataframe\">\n",
              "  <thead>\n",
              "    <tr style=\"text-align: right;\">\n",
              "      <th></th>\n",
              "      <th>minute_of_day</th>\n",
              "      <th>day_of_week</th>\n",
              "      <th>day_of_year</th>\n",
              "      <th>days</th>\n",
              "      <th>holiday</th>\n",
              "      <th>neg</th>\n",
              "      <th>neu</th>\n",
              "      <th>pos</th>\n",
              "      <th>compound</th>\n",
              "      <th>title_readability</th>\n",
              "      <th>title_length</th>\n",
              "      <th>vec1</th>\n",
              "      <th>vec2</th>\n",
              "      <th>title_uppercase</th>\n",
              "      <th>title_exclm</th>\n",
              "      <th>title_question</th>\n",
              "      <th>title_pic</th>\n",
              "      <th>title_video</th>\n",
              "      <th>over_18</th>\n",
              "      <th>author</th>\n",
              "    </tr>\n",
              "  </thead>\n",
              "  <tbody>\n",
              "    <tr>\n",
              "      <th>0</th>\n",
              "      <td>1294</td>\n",
              "      <td>3</td>\n",
              "      <td>24</td>\n",
              "      <td>0</td>\n",
              "      <td>0</td>\n",
              "      <td>0.529</td>\n",
              "      <td>0.471</td>\n",
              "      <td>0.000</td>\n",
              "      <td>-0.6705</td>\n",
              "      <td>-1.9</td>\n",
              "      <td>5</td>\n",
              "      <td>-0.247142</td>\n",
              "      <td>0.151910</td>\n",
              "      <td>0</td>\n",
              "      <td>0</td>\n",
              "      <td>0</td>\n",
              "      <td>0</td>\n",
              "      <td>0</td>\n",
              "      <td>0</td>\n",
              "      <td>1301</td>\n",
              "    </tr>\n",
              "    <tr>\n",
              "      <th>1</th>\n",
              "      <td>1294</td>\n",
              "      <td>3</td>\n",
              "      <td>24</td>\n",
              "      <td>0</td>\n",
              "      <td>0</td>\n",
              "      <td>0.000</td>\n",
              "      <td>1.000</td>\n",
              "      <td>0.000</td>\n",
              "      <td>0.0000</td>\n",
              "      <td>13.1</td>\n",
              "      <td>4</td>\n",
              "      <td>0.140650</td>\n",
              "      <td>-0.151306</td>\n",
              "      <td>0</td>\n",
              "      <td>0</td>\n",
              "      <td>0</td>\n",
              "      <td>0</td>\n",
              "      <td>0</td>\n",
              "      <td>0</td>\n",
              "      <td>1301</td>\n",
              "    </tr>\n",
              "    <tr>\n",
              "      <th>2</th>\n",
              "      <td>1302</td>\n",
              "      <td>3</td>\n",
              "      <td>24</td>\n",
              "      <td>0</td>\n",
              "      <td>0</td>\n",
              "      <td>0.000</td>\n",
              "      <td>1.000</td>\n",
              "      <td>0.000</td>\n",
              "      <td>0.0000</td>\n",
              "      <td>2.1</td>\n",
              "      <td>6</td>\n",
              "      <td>0.135792</td>\n",
              "      <td>-0.059465</td>\n",
              "      <td>0</td>\n",
              "      <td>0</td>\n",
              "      <td>0</td>\n",
              "      <td>0</td>\n",
              "      <td>0</td>\n",
              "      <td>0</td>\n",
              "      <td>1301</td>\n",
              "    </tr>\n",
              "    <tr>\n",
              "      <th>3</th>\n",
              "      <td>1314</td>\n",
              "      <td>3</td>\n",
              "      <td>24</td>\n",
              "      <td>0</td>\n",
              "      <td>0</td>\n",
              "      <td>0.000</td>\n",
              "      <td>0.652</td>\n",
              "      <td>0.348</td>\n",
              "      <td>0.4939</td>\n",
              "      <td>3.7</td>\n",
              "      <td>8</td>\n",
              "      <td>-0.013305</td>\n",
              "      <td>0.043041</td>\n",
              "      <td>0</td>\n",
              "      <td>0</td>\n",
              "      <td>0</td>\n",
              "      <td>0</td>\n",
              "      <td>0</td>\n",
              "      <td>0</td>\n",
              "      <td>0</td>\n",
              "    </tr>\n",
              "    <tr>\n",
              "      <th>4</th>\n",
              "      <td>565</td>\n",
              "      <td>4</td>\n",
              "      <td>25</td>\n",
              "      <td>0</td>\n",
              "      <td>0</td>\n",
              "      <td>0.362</td>\n",
              "      <td>0.638</td>\n",
              "      <td>0.000</td>\n",
              "      <td>-0.5267</td>\n",
              "      <td>6.0</td>\n",
              "      <td>8</td>\n",
              "      <td>0.025937</td>\n",
              "      <td>0.065162</td>\n",
              "      <td>0</td>\n",
              "      <td>0</td>\n",
              "      <td>0</td>\n",
              "      <td>0</td>\n",
              "      <td>0</td>\n",
              "      <td>0</td>\n",
              "      <td>0</td>\n",
              "    </tr>\n",
              "  </tbody>\n",
              "</table>\n",
              "</div>"
            ],
            "text/plain": [
              "   minute_of_day  day_of_week  day_of_year  ...  title_video  over_18  author\n",
              "0           1294            3           24  ...            0        0    1301\n",
              "1           1294            3           24  ...            0        0    1301\n",
              "2           1302            3           24  ...            0        0    1301\n",
              "3           1314            3           24  ...            0        0       0\n",
              "4            565            4           25  ...            0        0       0\n",
              "\n",
              "[5 rows x 20 columns]"
            ]
          },
          "metadata": {
            "tags": []
          },
          "execution_count": 50
        }
      ]
    },
    {
      "cell_type": "markdown",
      "metadata": {
        "id": "A-mhCqkGFOKw"
      },
      "source": [
        "# 3. Model Training"
      ]
    },
    {
      "cell_type": "markdown",
      "metadata": {
        "id": "C-Rout3PQGig"
      },
      "source": [
        "## 3.A Allocation of test set"
      ]
    },
    {
      "cell_type": "markdown",
      "metadata": {
        "id": "-jRokTF3QL5-"
      },
      "source": [
        "We will leave 10% of the data as a validation set, and use other 10% for test set. In general we will use k-fold (5-fold) cross validation for tuning the hyperparameters (done separately), but leave the validation set for early stopping."
      ]
    },
    {
      "cell_type": "code",
      "metadata": {
        "id": "7Wvqpyvk91bb"
      },
      "source": [
        "from sklearn.model_selection import train_test_split\n",
        "\n",
        "#change data to numpy array\n",
        "X = df_new\n",
        "y = df['up_votes']\n",
        "#split dataset into training set and test set\n",
        "X_train, X_test, y_train, y_test = train_test_split(X, y, test_size = 0.1, random_state = 1)\n",
        "#split the training set further into the traiing set and the validation set\n",
        "X_train, X_val, y_train, y_val = train_test_split(X_train, y_train, test_size=1/9, random_state =2)"
      ],
      "execution_count": null,
      "outputs": []
    },
    {
      "cell_type": "code",
      "metadata": {
        "colab": {
          "base_uri": "https://localhost:8080/"
        },
        "id": "8uNHZD4aFC2f",
        "outputId": "e06d2593-c7b6-458f-a009-d6c545b9e551"
      },
      "source": [
        "print('Training set sample: ', y_train.size)\n",
        "print('Validation set sample: ', y_val.size)\n",
        "print('Test set sample: ', y_test.size)"
      ],
      "execution_count": null,
      "outputs": [
        {
          "output_type": "stream",
          "text": [
            "Training set sample:  407388\n",
            "Validation set sample:  50924\n",
            "Test set sample:  50924\n"
          ],
          "name": "stdout"
        }
      ]
    },
    {
      "cell_type": "markdown",
      "metadata": {
        "id": "smjsJxH-P6Pz"
      },
      "source": [
        "## 3.B Baseline: mean\n",
        "- I will set the mean of the sale rates as a baseline. The ML models should outperform this baseline.\n",
        "- Here track the performance by defining the regression loss with mean absolute error since the distribution of up_votes is skewed."
      ]
    },
    {
      "cell_type": "code",
      "metadata": {
        "id": "43PrJtTpFPpW"
      },
      "source": [
        "from sklearn.metrics import mean_absolute_error"
      ],
      "execution_count": null,
      "outputs": []
    },
    {
      "cell_type": "code",
      "metadata": {
        "colab": {
          "base_uri": "https://localhost:8080/"
        },
        "id": "uBUqQKw4QAzg",
        "outputId": "b4ee9173-f6ee-441d-ce46-f9ef37dbbf89"
      },
      "source": [
        "#baaseline for training set\n",
        "y_pred_base = np.mean(y_train)*np.ones(y_train.shape)\n",
        "mae = mean_absolute_error(y_pred_base, y_train)\n",
        "print('Training set loss (MAE):%.5f' % mae)\n",
        "\n",
        "#baseline for test set\n",
        "y_pred_val_base = np.mean(y_val)*np.ones(y_val.shape)\n",
        "mae = mean_absolute_error(y_pred_val_base, y_val)\n",
        "print('Validation set loss (MAE):%.5f' % mae)\n",
        "\n",
        "#baseline for test set\n",
        "y_pred_test_base = np.mean(y_test)*np.ones(y_test.shape)\n",
        "mae = mean_absolute_error(y_pred_test_base, y_test)\n",
        "print('Test set loss (MAE):%.5f' % mae)\n"
      ],
      "execution_count": null,
      "outputs": [
        {
          "output_type": "stream",
          "text": [
            "Training set loss (MAE):186.15503\n",
            "Validation set loss (MAE):189.03636\n",
            "Test set loss (MAE):172.35833\n"
          ],
          "name": "stdout"
        }
      ]
    },
    {
      "cell_type": "markdown",
      "metadata": {
        "id": "5PDVjw8YWDzp"
      },
      "source": [
        "## 3.D model: LightGBM - Gradient Boosted Trees"
      ]
    },
    {
      "cell_type": "markdown",
      "metadata": {
        "id": "xFlyhoBBXOEB"
      },
      "source": [
        "Next we employ GBDT with MSE as objective function. We employ early-stopping to avoidoverfitting due to adding more trees, and we assess tune hyperparameters using gridsearch (done separately)."
      ]
    },
    {
      "cell_type": "code",
      "metadata": {
        "colab": {
          "base_uri": "https://localhost:8080/"
        },
        "id": "pwSsVbsemTRT",
        "outputId": "00b600ac-5f12-4084-938f-201e00f33c3c"
      },
      "source": [
        "!pip install lightgbm --install-option=--gpu --install-option=\"--opencl-include-dir=/usr/local/cuda/include/\" --install-option=\"--opencl-library=/usr/local/cuda/lib64/libOpenCL.so\""
      ],
      "execution_count": null,
      "outputs": [
        {
          "output_type": "stream",
          "text": [
            "/usr/local/lib/python3.7/dist-packages/pip/_internal/commands/install.py:283: UserWarning: Disabling all use of wheels due to the use of --build-options / --global-options / --install-options.\n",
            "  cmdoptions.check_install_build_global(options)\n",
            "Collecting lightgbm\n",
            "\u001b[?25l  Downloading https://files.pythonhosted.org/packages/7a/6d/db0f5effd3f7982632111f37fcd2fa386b8407f1ff58ef30b71d65e1a444/lightgbm-3.2.1.tar.gz (1.5MB)\n",
            "\u001b[K     |████████████████████████████████| 1.5MB 5.5MB/s \n",
            "\u001b[?25hRequirement already satisfied: wheel in /usr/local/lib/python3.7/dist-packages (from lightgbm) (0.36.2)\n",
            "Requirement already satisfied: numpy in /usr/local/lib/python3.7/dist-packages (from lightgbm) (1.19.5)\n",
            "Requirement already satisfied: scipy in /usr/local/lib/python3.7/dist-packages (from lightgbm) (1.4.1)\n",
            "Requirement already satisfied: scikit-learn!=0.22.0 in /usr/local/lib/python3.7/dist-packages (from lightgbm) (0.22.2.post1)\n",
            "Requirement already satisfied: joblib>=0.11 in /usr/local/lib/python3.7/dist-packages (from scikit-learn!=0.22.0->lightgbm) (1.0.1)\n",
            "Skipping wheel build for lightgbm, due to binaries being disabled for it.\n",
            "Installing collected packages: lightgbm\n",
            "    Running setup.py install for lightgbm ... \u001b[?25l\u001b[?25hdone\n",
            "Successfully installed lightgbm-3.2.1\n"
          ],
          "name": "stdout"
        }
      ]
    },
    {
      "cell_type": "code",
      "metadata": {
        "id": "7sjAclZDR0Vr"
      },
      "source": [
        "import lightgbm as lgb\n",
        "from sklearn import metrics\n",
        "from sklearn.model_selection import GridSearchCV"
      ],
      "execution_count": null,
      "outputs": []
    },
    {
      "cell_type": "markdown",
      "metadata": {
        "id": "2khAGQwnQhW0"
      },
      "source": [
        "Following hypterparameters have been tuned using the cross validation (5-cross) (done separately)"
      ]
    },
    {
      "cell_type": "code",
      "metadata": {
        "colab": {
          "base_uri": "https://localhost:8080/"
        },
        "id": "h8dcCp_tGEwm",
        "outputId": "18a6fff4-dd83-4382-c81e-236ceaf9b1c3"
      },
      "source": [
        "d_train = lgb.Dataset(X_train, label=y_train)\n",
        "d_val = lgb.Dataset(X_val, label=y_val)\n",
        "params = {\n",
        "    'objective':'regression_l1',\n",
        "    'boosting':'gbdt',\n",
        "    'verbose': 1,\n",
        "    'seed': 33,\n",
        "    'early_stopping_rounds':5,\n",
        "    'learning_rate':0.5,\n",
        "    'num_iterations':50,\n",
        "    'num_leaves':100,\n",
        "    'min_data_in_leaf':50,\n",
        "    'min_child_weight':0,\n",
        "    'min_split_gain':0,\n",
        "    'n_estimator':10,\n",
        "    'stratified': False,\n",
        "    'device':'gpu',\n",
        "    'min_data_in_bin':86\n",
        "}\n",
        "\n",
        "\n",
        "#With Catgeorical Features\n",
        "cate_features_name = ['holiday', 'title_uppercase',\t'title_exclm',\t'title_question',\t'title_pic', 'title_video',\t'author',\t'over_18']\n",
        "model = lgb.train(params, d_train, categorical_feature = cate_features_name, valid_sets = d_val)"
      ],
      "execution_count": null,
      "outputs": [
        {
          "output_type": "stream",
          "text": [
            "/usr/local/lib/python3.7/dist-packages/lightgbm/engine.py:148: UserWarning: Found `num_iterations` in params. Will use it instead of argument\n",
            "  _log_warning(\"Found `{}` in params. Will use it instead of argument\".format(alias))\n",
            "/usr/local/lib/python3.7/dist-packages/lightgbm/engine.py:153: UserWarning: Found `early_stopping_rounds` in params. Will use it instead of argument\n",
            "  _log_warning(\"Found `{}` in params. Will use it instead of argument\".format(alias))\n",
            "/usr/local/lib/python3.7/dist-packages/lightgbm/basic.py:1706: UserWarning: categorical_feature in Dataset is overridden.\n",
            "New categorical_feature is ['author', 'holiday', 'over_18', 'title_exclm', 'title_pic', 'title_question', 'title_uppercase', 'title_video']\n",
            "  'New categorical_feature is {}'.format(sorted(list(categorical_feature))))\n"
          ],
          "name": "stderr"
        },
        {
          "output_type": "stream",
          "text": [
            "[LightGBM] [Warning] Unknown parameter: n_estimator\n",
            "[LightGBM] [Warning] Unknown parameter: stratified\n",
            "[LightGBM] [Warning] Unknown parameter: n_estimator\n",
            "[LightGBM] [Warning] Unknown parameter: stratified\n",
            "[LightGBM] [Info] This is the GPU trainer!!\n",
            "[LightGBM] [Info] Total Bins 2749\n",
            "[LightGBM] [Info] Number of data points in the train set: 407388, number of used features: 19\n",
            "[LightGBM] [Info] Using GPU Device: Tesla P100-PCIE-16GB, Vendor: NVIDIA Corporation\n",
            "[LightGBM] [Info] Compiling OpenCL Kernel with 256 bins...\n",
            "[LightGBM] [Info] GPU programs have been built\n",
            "[LightGBM] [Info] Size of histogram bin entry: 8\n",
            "[LightGBM] [Info] 12 dense feature groups (4.66 MB) transferred to GPU in 0.007099 secs. 1 sparse feature groups\n",
            "[LightGBM] [Warning] Unknown parameter: n_estimator\n",
            "[LightGBM] [Warning] Unknown parameter: stratified\n",
            "[LightGBM] [Info] Start training from score 5.000000\n",
            "[1]\tvalid_0's l1: 112.546\n",
            "Training until validation scores don't improve for 5 rounds\n",
            "[2]\tvalid_0's l1: 112.372\n",
            "[3]\tvalid_0's l1: 112.329\n"
          ],
          "name": "stdout"
        },
        {
          "output_type": "stream",
          "text": [
            "/usr/local/lib/python3.7/dist-packages/lightgbm/basic.py:1433: UserWarning: Overriding the parameters from Reference Dataset.\n",
            "  _log_warning('Overriding the parameters from Reference Dataset.')\n",
            "/usr/local/lib/python3.7/dist-packages/lightgbm/basic.py:1245: UserWarning: categorical_column in param dict is overridden.\n",
            "  _log_warning('{} in param dict is overridden.'.format(cat_alias))\n"
          ],
          "name": "stderr"
        },
        {
          "output_type": "stream",
          "text": [
            "[4]\tvalid_0's l1: 112.307\n",
            "[5]\tvalid_0's l1: 112.264\n",
            "[6]\tvalid_0's l1: 112.236\n",
            "[7]\tvalid_0's l1: 112.235\n",
            "[8]\tvalid_0's l1: 112.244\n",
            "[9]\tvalid_0's l1: 112.233\n",
            "[10]\tvalid_0's l1: 112.228\n",
            "[11]\tvalid_0's l1: 112.229\n",
            "[12]\tvalid_0's l1: 112.23\n",
            "[13]\tvalid_0's l1: 112.225\n",
            "[14]\tvalid_0's l1: 112.225\n",
            "[15]\tvalid_0's l1: 112.225\n",
            "[16]\tvalid_0's l1: 112.224\n",
            "[17]\tvalid_0's l1: 112.228\n",
            "[18]\tvalid_0's l1: 112.221\n",
            "[19]\tvalid_0's l1: 112.222\n",
            "[20]\tvalid_0's l1: 112.223\n",
            "[21]\tvalid_0's l1: 112.222\n",
            "[22]\tvalid_0's l1: 112.223\n",
            "[23]\tvalid_0's l1: 112.223\n",
            "Early stopping, best iteration is:\n",
            "[18]\tvalid_0's l1: 112.221\n"
          ],
          "name": "stdout"
        }
      ]
    },
    {
      "cell_type": "markdown",
      "metadata": {
        "id": "hPdEyy7yA740"
      },
      "source": [
        "Predict the upvote using the training set and the test set"
      ]
    },
    {
      "cell_type": "code",
      "metadata": {
        "id": "LB3I5P8bA5nK"
      },
      "source": [
        "y_pred_train = model.predict(X_train)\n",
        "y_pred_val = model.predict(X_val)\n",
        "y_pred_test = model.predict(X_test)"
      ],
      "execution_count": null,
      "outputs": []
    },
    {
      "cell_type": "code",
      "metadata": {
        "colab": {
          "base_uri": "https://localhost:8080/"
        },
        "id": "_pZB0gc9MEmD",
        "outputId": "1d87868d-14cd-4529-d807-eec829870928"
      },
      "source": [
        "#Mean Absolute error (MAE) for training set\n",
        "mae = mean_absolute_error(y_pred_train, y_train)\n",
        "print('Training set loss (MAE):%.3f' % mae)\n",
        "\n",
        "#Mean Absolute error (MAE) for validation set\n",
        "mae = mean_absolute_error(y_pred_val, y_val)\n",
        "print('Validation set loss (MAE):%.3f' % mae)\n",
        "\n",
        "#Mean Absolute error (MAE) for test set\n",
        "mae = mean_absolute_error(y_pred_test, y_test)\n",
        "print('Test set loss (MAE):%.3f' % mae)"
      ],
      "execution_count": null,
      "outputs": [
        {
          "output_type": "stream",
          "text": [
            "Training set loss (MAE):110.491\n",
            "Validation set loss (MAE):112.221\n",
            "Test set loss (MAE):102.985\n"
          ],
          "name": "stdout"
        }
      ]
    },
    {
      "cell_type": "markdown",
      "metadata": {
        "id": "_XsMNdsbLi13"
      },
      "source": [
        "The loss with Gradient Boost method is much smaller than with beaseline with 186 on training set and 172 with test set."
      ]
    },
    {
      "cell_type": "markdown",
      "metadata": {
        "id": "cqKn8JnRSHD-"
      },
      "source": [
        "### Prediction error"
      ]
    },
    {
      "cell_type": "code",
      "metadata": {
        "colab": {
          "base_uri": "https://localhost:8080/",
          "height": 279
        },
        "id": "h7h-94p-SFZf",
        "outputId": "7787abcb-91c9-4726-b36f-be62f3850a92"
      },
      "source": [
        "error_gb_train = y_train - y_pred_train\n",
        "error_gb_test = y_test - y_pred_test\n",
        "error_baseline = y_test -y.mean()\n",
        "\n",
        "plt.hist(error_gb_test, bins=3000, label='lightGBM')\n",
        "plt.hist(error_baseline, bins=3000, label='baseline model')\n",
        "plt.ylabel('Frequency')\n",
        "plt.xlabel('difference between the predicted up votes and the actual up votes ')\n",
        "plt.xlim(-200,400)\n",
        "plt.legend()\n",
        "plt.show()"
      ],
      "execution_count": null,
      "outputs": [
        {
          "output_type": "display_data",
          "data": {
            "image/png": "[encoded data removed]",
            "text/plain": [
              "<Figure size 432x288 with 1 Axes>"
            ]
          },
          "metadata": {
            "tags": [],
            "needs_background": "light"
          }
        }
      ]
    },
    {
      "cell_type": "markdown",
      "metadata": {
        "id": "MlU_ZPQIlWuC"
      },
      "source": [
        "Since the distribution of the up_votes are not symmetric, the peak of the distribution of the error for baseline (gloabl mean) is off from 0 even thought its mean is ~ 0. However, the predicted upvotes modeled by the Gradient Boost is distributed around 0. This results into much smaller mean abolute error (better prediction) than the baseline."
      ]
    },
    {
      "cell_type": "code",
      "metadata": {
        "colab": {
          "base_uri": "https://localhost:8080/"
        },
        "id": "qSgymi3C0V8m",
        "outputId": "6af0cda0-8884-4d34-b62f-b48b2af9df6a"
      },
      "source": [
        "print('Gradient Boost')\n",
        "percent_u100_test = len(error_gb_test[abs(error_gb_test)<=100])/len(y_test)*100\n",
        "print(' Percentage of estimated upvotes within +-100 of true upvotes:%.2f' % percent_u100_test)\n",
        "\n",
        "print('Baseline: global mean')\n",
        "percent_u100_baseline = len(error_baseline[abs(error_baseline)<=100])/len(y_test)*100\n",
        "print(' Percentage of estimated upvotes within +-100 of true upvotes:%.2f' % percent_u100_baseline)\n",
        "\n",
        "\n",
        "print('Gradient Boost')\n",
        "percent_u100_test = len(error_gb_test[abs(error_gb_test)<=50])/len(y_test)*100\n",
        "print(' Percentage of estimated upvotes within +-50 of true upvotes:%.2f' % percent_u100_test)\n",
        "\n",
        "print('Baseline: global mean')\n",
        "percent_u100_baseline = len(error_baseline[abs(error_baseline)<=50])/len(y_test)*100\n",
        "print(' Percentage of estimated upvotes within +-50 of true upvotes:%.2f' % percent_u100_baseline)\n"
      ],
      "execution_count": null,
      "outputs": [
        {
          "output_type": "stream",
          "text": [
            "Gradient Boost\n",
            " Percentage of estimated upvotes within +-100 of true upvotes:90.56\n",
            "Baseline: global mean\n",
            " Percentage of estimated upvotes within +-100 of true upvotes:21.60\n",
            "Gradient Boost\n",
            " Percentage of estimated upvotes within +-50 of true upvotes:87.23\n",
            "Baseline: global mean\n",
            " Percentage of estimated upvotes within +-50 of true upvotes:4.27\n"
          ],
          "name": "stdout"
        }
      ]
    },
    {
      "cell_type": "code",
      "metadata": {
        "colab": {
          "base_uri": "https://localhost:8080/",
          "height": 312
        },
        "id": "wAj7RtnkTWGh",
        "outputId": "fb7ff8b8-92b8-4d6c-ae85-a2c649c25283"
      },
      "source": [
        "lgb.plot_importance(model, importance_type='gain')"
      ],
      "execution_count": null,
      "outputs": [
        {
          "output_type": "execute_result",
          "data": {
            "text/plain": [
              "<matplotlib.axes._subplots.AxesSubplot at 0x7fd6fc136f10>"
            ]
          },
          "metadata": {
            "tags": []
          },
          "execution_count": 52
        },
        {
          "output_type": "display_data",
          "data": {
            "image/png": "[encoded data removed]",
            "text/plain": [
              "<Figure size 432x288 with 1 Axes>"
            ]
          },
          "metadata": {
            "tags": [],
            "needs_background": "light"
          }
        }
      ]
    },
    {
      "cell_type": "code",
      "metadata": {
        "id": "CES6LtJ2KjGV"
      },
      "source": [
        ""
      ],
      "execution_count": null,
      "outputs": []
    }
  ]
}